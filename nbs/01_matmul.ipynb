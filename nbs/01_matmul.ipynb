{
  "cells": [
    {
      "cell_type": "markdown",
      "metadata": {
        "id": "z84zxhcBGy7x"
      },
      "source": [
        "## Matrix multiplication from foundations"
      ]
    },
    {
      "cell_type": "markdown",
      "metadata": {
        "id": "LPnPmSdUGy7z"
      },
      "source": [
        "The *foundations* we'll assume throughout this course are:\n",
        "\n",
        "- Python\n",
        "- matplotlib\n",
        "- The Python standard library\n",
        "- Jupyter notebooks and nbdev"
      ]
    },
    {
      "cell_type": "code",
      "execution_count": null,
      "metadata": {
        "tags": [],
        "id": "_ufm8TKyGy70"
      },
      "outputs": [],
      "source": [
        "%load_ext lab_black"
      ]
    },
    {
      "cell_type": "code",
      "source": [
        "!pip install torch\n",
        "!pip install fastcore\n",
        "!pip install numpy\n",
        "!pip install numba"
      ],
      "metadata": {
        "colab": {
          "base_uri": "https://localhost:8080/"
        },
        "id": "dGwBTSIIHNgZ",
        "outputId": "14eab2b4-c5fa-4532-d1a7-7ac6e19a3732"
      },
      "execution_count": 2,
      "outputs": [
        {
          "output_type": "stream",
          "name": "stdout",
          "text": [
            "Looking in indexes: https://pypi.org/simple, https://us-python.pkg.dev/colab-wheels/public/simple/\n",
            "Requirement already satisfied: torch in /usr/local/lib/python3.9/dist-packages (2.0.0+cu118)\n",
            "Requirement already satisfied: filelock in /usr/local/lib/python3.9/dist-packages (from torch) (3.11.0)\n",
            "Requirement already satisfied: networkx in /usr/local/lib/python3.9/dist-packages (from torch) (3.1)\n",
            "Requirement already satisfied: typing-extensions in /usr/local/lib/python3.9/dist-packages (from torch) (4.5.0)\n",
            "Requirement already satisfied: triton==2.0.0 in /usr/local/lib/python3.9/dist-packages (from torch) (2.0.0)\n",
            "Requirement already satisfied: jinja2 in /usr/local/lib/python3.9/dist-packages (from torch) (3.1.2)\n",
            "Requirement already satisfied: sympy in /usr/local/lib/python3.9/dist-packages (from torch) (1.11.1)\n",
            "Requirement already satisfied: cmake in /usr/local/lib/python3.9/dist-packages (from triton==2.0.0->torch) (3.25.2)\n",
            "Requirement already satisfied: lit in /usr/local/lib/python3.9/dist-packages (from triton==2.0.0->torch) (16.0.1)\n",
            "Requirement already satisfied: MarkupSafe>=2.0 in /usr/local/lib/python3.9/dist-packages (from jinja2->torch) (2.1.2)\n",
            "Requirement already satisfied: mpmath>=0.19 in /usr/local/lib/python3.9/dist-packages (from sympy->torch) (1.3.0)\n",
            "Looking in indexes: https://pypi.org/simple, https://us-python.pkg.dev/colab-wheels/public/simple/\n",
            "Requirement already satisfied: fastcore in /usr/local/lib/python3.9/dist-packages (1.5.29)\n",
            "Requirement already satisfied: packaging in /usr/local/lib/python3.9/dist-packages (from fastcore) (23.0)\n",
            "Requirement already satisfied: pip in /usr/local/lib/python3.9/dist-packages (from fastcore) (23.0.1)\n",
            "Looking in indexes: https://pypi.org/simple, https://us-python.pkg.dev/colab-wheels/public/simple/\n",
            "Requirement already satisfied: numpy in /usr/local/lib/python3.9/dist-packages (1.22.4)\n",
            "Looking in indexes: https://pypi.org/simple, https://us-python.pkg.dev/colab-wheels/public/simple/\n",
            "Requirement already satisfied: numba in /usr/local/lib/python3.9/dist-packages (0.56.4)\n",
            "Requirement already satisfied: numpy<1.24,>=1.18 in /usr/local/lib/python3.9/dist-packages (from numba) (1.22.4)\n",
            "Requirement already satisfied: llvmlite<0.40,>=0.39.0dev0 in /usr/local/lib/python3.9/dist-packages (from numba) (0.39.1)\n",
            "Requirement already satisfied: setuptools in /usr/local/lib/python3.9/dist-packages (from numba) (67.6.1)\n"
          ]
        }
      ]
    },
    {
      "cell_type": "code",
      "execution_count": 135,
      "metadata": {
        "tags": [],
        "id": "luyh1fedGy72"
      },
      "outputs": [],
      "source": [
        "from pathlib import Path\n",
        "import pickle, gzip, math, os, time, shutil, matplotlib as mpl, matplotlib.pyplot as plt\n",
        "from urllib.request import urlretrieve\n",
        "from itertools import islice\n",
        "from random import random\n",
        "import numpy as np\n",
        "import torch\n",
        "from torch import tensor\n",
        "from fastcore.test import *\n",
        "\n",
        "from numba import njit, cuda"
      ]
    },
    {
      "cell_type": "markdown",
      "metadata": {
        "id": "Bdk-e-dUGy73"
      },
      "source": [
        "## Get data"
      ]
    },
    {
      "cell_type": "code",
      "execution_count": 4,
      "metadata": {
        "tags": [],
        "id": "y0uBmbj-Gy73"
      },
      "outputs": [],
      "source": [
        "MNIST_URL = \"https://github.com/mnielsen/neural-networks-and-deep-learning/blob/master/data/mnist.pkl.gz?raw=true\"\n",
        "path_data = Path(\"data\")\n",
        "path_data.mkdir(exist_ok=True)\n",
        "path_gz = path_data / \"mnist.pkl.gz\""
      ]
    },
    {
      "cell_type": "markdown",
      "metadata": {
        "id": "gGC6k6T3Gy73"
      },
      "source": [
        "[urlretrieve](https://docs.python.org/3/library/urllib.request.html#urllib.request.urlretrieve) - (read the docs!)"
      ]
    },
    {
      "cell_type": "code",
      "execution_count": 5,
      "metadata": {
        "tags": [],
        "id": "WRKHUuBEGy74"
      },
      "outputs": [],
      "source": [
        "if not path_gz.exists():\n",
        "    urlretrieve(MNIST_URL, path_gz)"
      ]
    },
    {
      "cell_type": "code",
      "execution_count": 6,
      "metadata": {
        "tags": [],
        "colab": {
          "base_uri": "https://localhost:8080/"
        },
        "id": "OERVwH0eGy74",
        "outputId": "e9eff43c-2a2b-4ec0-ba38-f2f1c2bacd7a"
      },
      "outputs": [
        {
          "output_type": "stream",
          "name": "stdout",
          "text": [
            "total 16656\n",
            "-rw-r--r-- 1 root root 17051982 Apr 14 00:16 mnist.pkl.gz\n"
          ]
        }
      ],
      "source": [
        "!ls -l data"
      ]
    },
    {
      "cell_type": "code",
      "execution_count": 8,
      "metadata": {
        "tags": [],
        "id": "YY7LWvP6Gy76"
      },
      "outputs": [],
      "source": [
        "with gzip.open(path_gz, \"rb\") as f:\n",
        "    ((x_train, y_train), (x_valid, y_valid), _) = pickle.load(f, encoding=\"latin-1\")"
      ]
    },
    {
      "cell_type": "code",
      "execution_count": 9,
      "metadata": {
        "tags": [],
        "colab": {
          "base_uri": "https://localhost:8080/"
        },
        "id": "lKxmqWKqGy76",
        "outputId": "5f0eb3de-8feb-455e-87da-e859ec422fba"
      },
      "outputs": [
        {
          "output_type": "execute_result",
          "data": {
            "text/plain": [
              "[0.0,\n",
              " 0.0,\n",
              " 0.0,\n",
              " 0.19140625,\n",
              " 0.9296875,\n",
              " 0.98828125,\n",
              " 0.98828125,\n",
              " 0.98828125,\n",
              " 0.98828125,\n",
              " 0.98828125]"
            ]
          },
          "metadata": {},
          "execution_count": 9
        }
      ],
      "source": [
        "lst1 = list(x_train[0])\n",
        "vals = lst1[200:210]\n",
        "vals"
      ]
    },
    {
      "cell_type": "code",
      "execution_count": 10,
      "metadata": {
        "tags": [],
        "id": "itmsUmbDGy77"
      },
      "outputs": [],
      "source": [
        "def chunks(x, sz):\n",
        "    for i in range(0, len(x), sz):\n",
        "        yield x[i : i + sz]"
      ]
    },
    {
      "cell_type": "code",
      "execution_count": 11,
      "metadata": {
        "tags": [],
        "colab": {
          "base_uri": "https://localhost:8080/"
        },
        "id": "DKQHDLc4Gy77",
        "outputId": "62e65f4f-515a-45ea-ef49-c58b678d8df1"
      },
      "outputs": [
        {
          "output_type": "execute_result",
          "data": {
            "text/plain": [
              "[[0.0, 0.0, 0.0, 0.19140625, 0.9296875],\n",
              " [0.98828125, 0.98828125, 0.98828125, 0.98828125, 0.98828125]]"
            ]
          },
          "metadata": {},
          "execution_count": 11
        }
      ],
      "source": [
        "list(chunks(vals, 5))"
      ]
    },
    {
      "cell_type": "code",
      "execution_count": 12,
      "metadata": {
        "tags": [],
        "colab": {
          "base_uri": "https://localhost:8080/",
          "height": 447
        },
        "id": "VjWZrb0oGy77",
        "outputId": "b56de683-f854-44dd-c640-55a743ce9ad4"
      },
      "outputs": [
        {
          "output_type": "execute_result",
          "data": {
            "text/plain": [
              "<matplotlib.image.AxesImage at 0x7f49a9a77fd0>"
            ]
          },
          "metadata": {},
          "execution_count": 12
        },
        {
          "output_type": "display_data",
          "data": {
            "text/plain": [
              "<Figure size 640x480 with 1 Axes>"
            ],
            "image/png": "[encoded data removed]"
          },
          "metadata": {}
        }
      ],
      "source": [
        "mpl.rcParams[\"image.cmap\"] = \"gray\"\n",
        "plt.imshow(list(chunks(lst1, 28)))"
      ]
    },
    {
      "cell_type": "markdown",
      "metadata": {
        "id": "KDNLiZV8Gy78"
      },
      "source": [
        "[islice](https://docs.python.org/3/library/itertools.html#itertools.islice)"
      ]
    },
    {
      "cell_type": "code",
      "execution_count": 13,
      "metadata": {
        "tags": [],
        "colab": {
          "base_uri": "https://localhost:8080/"
        },
        "id": "6oU9ijOJGy78",
        "outputId": "ff6f1f01-6b68-4aea-bdf0-dbf7df8d19b8"
      },
      "outputs": [
        {
          "output_type": "execute_result",
          "data": {
            "text/plain": [
              "<itertools.islice at 0x7f49a9b44310>"
            ]
          },
          "metadata": {},
          "execution_count": 13
        }
      ],
      "source": [
        "it = iter(vals)\n",
        "islice(it, 5)"
      ]
    },
    {
      "cell_type": "code",
      "execution_count": 14,
      "metadata": {
        "tags": [],
        "colab": {
          "base_uri": "https://localhost:8080/"
        },
        "id": "QsFIQM_HGy78",
        "outputId": "d0072649-f53e-4532-ec57-c940fa6b2ec6"
      },
      "outputs": [
        {
          "output_type": "execute_result",
          "data": {
            "text/plain": [
              "[0.0, 0.0, 0.0, 0.19140625, 0.9296875]"
            ]
          },
          "metadata": {},
          "execution_count": 14
        }
      ],
      "source": [
        "list(islice(it, 5))"
      ]
    },
    {
      "cell_type": "code",
      "execution_count": 15,
      "metadata": {
        "tags": [],
        "colab": {
          "base_uri": "https://localhost:8080/"
        },
        "id": "Qh96jvViGy78",
        "outputId": "ef553793-a55e-4260-f43e-5c5c17225fed"
      },
      "outputs": [
        {
          "output_type": "execute_result",
          "data": {
            "text/plain": [
              "[0.98828125, 0.98828125, 0.98828125, 0.98828125, 0.98828125]"
            ]
          },
          "metadata": {},
          "execution_count": 15
        }
      ],
      "source": [
        "list(islice(it, 5))"
      ]
    },
    {
      "cell_type": "code",
      "execution_count": 16,
      "metadata": {
        "tags": [],
        "colab": {
          "base_uri": "https://localhost:8080/"
        },
        "id": "uVg6ZolNGy78",
        "outputId": "2c435d75-05e1-4a31-c85c-c515a5357f39"
      },
      "outputs": [
        {
          "output_type": "execute_result",
          "data": {
            "text/plain": [
              "[]"
            ]
          },
          "metadata": {},
          "execution_count": 16
        }
      ],
      "source": [
        "list(islice(it, 5))"
      ]
    },
    {
      "cell_type": "code",
      "execution_count": 17,
      "metadata": {
        "tags": [],
        "id": "Y_iU5tP3Gy79"
      },
      "outputs": [],
      "source": [
        "it = iter(lst1)\n",
        "img = list(iter(lambda: list(islice(it, 28)), []))"
      ]
    },
    {
      "cell_type": "code",
      "execution_count": 18,
      "metadata": {
        "tags": [],
        "colab": {
          "base_uri": "https://localhost:8080/",
          "height": 447
        },
        "id": "8DaChQCsGy79",
        "outputId": "1b47862f-4471-47cf-fb75-41aa9098878d"
      },
      "outputs": [
        {
          "output_type": "execute_result",
          "data": {
            "text/plain": [
              "<matplotlib.image.AxesImage at 0x7f49a79c3d30>"
            ]
          },
          "metadata": {},
          "execution_count": 18
        },
        {
          "output_type": "display_data",
          "data": {
            "text/plain": [
              "<Figure size 640x480 with 1 Axes>"
            ],
            "image/png": "[encoded data removed]"
          },
          "metadata": {}
        }
      ],
      "source": [
        "plt.imshow(img)"
      ]
    },
    {
      "cell_type": "markdown",
      "metadata": {
        "tags": [],
        "id": "EFHmoCJKGy79"
      },
      "source": [
        "## Matrix and tensor"
      ]
    },
    {
      "cell_type": "code",
      "execution_count": 19,
      "metadata": {
        "tags": [],
        "colab": {
          "base_uri": "https://localhost:8080/"
        },
        "id": "uNJiL7A7Gy79",
        "outputId": "0bd31c96-1626-4635-dc46-30fd1fe7be4d"
      },
      "outputs": [
        {
          "output_type": "execute_result",
          "data": {
            "text/plain": [
              "0.98828125"
            ]
          },
          "metadata": {},
          "execution_count": 19
        }
      ],
      "source": [
        "img[20][15]"
      ]
    },
    {
      "cell_type": "code",
      "execution_count": 20,
      "metadata": {
        "tags": [],
        "id": "VOVVnV31Gy7-"
      },
      "outputs": [],
      "source": [
        "class Matrix:\n",
        "    def __init__(self, xs):\n",
        "        self.xs = xs\n",
        "\n",
        "    def __getitem__(self, idxs):\n",
        "        return self.xs[idxs[0]][idxs[1]]"
      ]
    },
    {
      "cell_type": "code",
      "execution_count": 21,
      "metadata": {
        "tags": [],
        "colab": {
          "base_uri": "https://localhost:8080/"
        },
        "id": "4F9h8hD_Gy7-",
        "outputId": "066d9d00-c84f-4eb6-c610-94919572737c"
      },
      "outputs": [
        {
          "output_type": "execute_result",
          "data": {
            "text/plain": [
              "0.98828125"
            ]
          },
          "metadata": {},
          "execution_count": 21
        }
      ],
      "source": [
        "m = Matrix(img)\n",
        "m[20, 15]"
      ]
    },
    {
      "cell_type": "code",
      "execution_count": 22,
      "metadata": {
        "tags": [],
        "colab": {
          "base_uri": "https://localhost:8080/"
        },
        "id": "zD0CE2qNGy7-",
        "outputId": "f6ba6887-70e3-4be7-aadf-e2d474886c9f"
      },
      "outputs": [
        {
          "output_type": "execute_result",
          "data": {
            "text/plain": [
              "tensor([1, 2, 3])"
            ]
          },
          "metadata": {},
          "execution_count": 22
        }
      ],
      "source": [
        "tensor([1, 2, 3])"
      ]
    },
    {
      "cell_type": "code",
      "execution_count": 23,
      "metadata": {
        "tags": [],
        "colab": {
          "base_uri": "https://localhost:8080/"
        },
        "id": "08006gzPGy7-",
        "outputId": "33aedb59-b618-4262-d27a-b9a963e3cd6c"
      },
      "outputs": [
        {
          "output_type": "execute_result",
          "data": {
            "text/plain": [
              "torch.Size([50000, 784])"
            ]
          },
          "metadata": {},
          "execution_count": 23
        }
      ],
      "source": [
        "x_train, y_train, x_valid, y_valid = map(tensor, (x_train, y_train, x_valid, y_valid))\n",
        "x_train.shape"
      ]
    },
    {
      "cell_type": "code",
      "execution_count": 24,
      "metadata": {
        "tags": [],
        "colab": {
          "base_uri": "https://localhost:8080/",
          "height": 36
        },
        "id": "pT1BBdw4Gy7_",
        "outputId": "d5687a43-1eaf-4fc4-bfc0-359aa3e11d6c"
      },
      "outputs": [
        {
          "output_type": "execute_result",
          "data": {
            "text/plain": [
              "'torch.FloatTensor'"
            ],
            "application/vnd.google.colaboratory.intrinsic+json": {
              "type": "string"
            }
          },
          "metadata": {},
          "execution_count": 24
        }
      ],
      "source": [
        "x_train.type()"
      ]
    },
    {
      "cell_type": "markdown",
      "metadata": {
        "id": "DywsWREnGy7_"
      },
      "source": [
        "[Tensor](https://pytorch.org/docs/stable/tensors.html)"
      ]
    },
    {
      "cell_type": "code",
      "execution_count": 25,
      "metadata": {
        "tags": [],
        "colab": {
          "base_uri": "https://localhost:8080/"
        },
        "id": "g8igX1IGGy7_",
        "outputId": "88a66c49-e14f-453e-f21b-719176846a6c"
      },
      "outputs": [
        {
          "output_type": "execute_result",
          "data": {
            "text/plain": [
              "torch.Size([50000, 28, 28])"
            ]
          },
          "metadata": {},
          "execution_count": 25
        }
      ],
      "source": [
        "imgs = x_train.reshape((-1, 28, 28))\n",
        "imgs.shape"
      ]
    },
    {
      "cell_type": "code",
      "execution_count": 26,
      "metadata": {
        "tags": [],
        "colab": {
          "base_uri": "https://localhost:8080/",
          "height": 447
        },
        "id": "ywmdRCkTGy7_",
        "outputId": "728b7524-2854-40b2-cd71-d78dcecf80e4"
      },
      "outputs": [
        {
          "output_type": "execute_result",
          "data": {
            "text/plain": [
              "<matplotlib.image.AxesImage at 0x7f49a7945c70>"
            ]
          },
          "metadata": {},
          "execution_count": 26
        },
        {
          "output_type": "display_data",
          "data": {
            "text/plain": [
              "<Figure size 640x480 with 1 Axes>"
            ],
            "image/png": "[encoded data removed]"
          },
          "metadata": {}
        }
      ],
      "source": [
        "plt.imshow(imgs[0])"
      ]
    },
    {
      "cell_type": "code",
      "execution_count": 27,
      "metadata": {
        "tags": [],
        "colab": {
          "base_uri": "https://localhost:8080/"
        },
        "id": "qxSUvmvYGy7_",
        "outputId": "252d4ad5-d919-45c0-e01b-b661a3e96ec0"
      },
      "outputs": [
        {
          "output_type": "execute_result",
          "data": {
            "text/plain": [
              "tensor(0.9883)"
            ]
          },
          "metadata": {},
          "execution_count": 27
        }
      ],
      "source": [
        "imgs[0, 20, 15]"
      ]
    },
    {
      "cell_type": "code",
      "execution_count": 28,
      "metadata": {
        "tags": [],
        "colab": {
          "base_uri": "https://localhost:8080/"
        },
        "id": "H0fKLKRWGy7_",
        "outputId": "d6bcafbb-2f8b-4c0c-8f5c-6397cea27ce4"
      },
      "outputs": [
        {
          "output_type": "execute_result",
          "data": {
            "text/plain": [
              "(tensor([5, 0, 4,  ..., 8, 4, 8]), torch.Size([50000]))"
            ]
          },
          "metadata": {},
          "execution_count": 28
        }
      ],
      "source": [
        "n, c = x_train.shape\n",
        "y_train, y_train.shape"
      ]
    },
    {
      "cell_type": "code",
      "execution_count": 29,
      "metadata": {
        "tags": [],
        "colab": {
          "base_uri": "https://localhost:8080/"
        },
        "id": "Y6TAT9oEGy8A",
        "outputId": "6159fc4e-bf75-4944-c9fb-633d76057249"
      },
      "outputs": [
        {
          "output_type": "execute_result",
          "data": {
            "text/plain": [
              "(tensor(0), tensor(9))"
            ]
          },
          "metadata": {},
          "execution_count": 29
        }
      ],
      "source": [
        "min(y_train), max(y_train)"
      ]
    },
    {
      "cell_type": "code",
      "execution_count": 30,
      "metadata": {
        "tags": [],
        "colab": {
          "base_uri": "https://localhost:8080/"
        },
        "id": "R16tp9k-Gy8A",
        "outputId": "b45b5edf-04fa-4ea7-de9e-c6fd4e9df54d"
      },
      "outputs": [
        {
          "output_type": "execute_result",
          "data": {
            "text/plain": [
              "(tensor(0), tensor(9))"
            ]
          },
          "metadata": {},
          "execution_count": 30
        }
      ],
      "source": [
        "y_train.min(), y_train.max()"
      ]
    },
    {
      "cell_type": "markdown",
      "metadata": {
        "tags": [],
        "id": "CYdGhSIAGy8A"
      },
      "source": [
        "## Random numbers"
      ]
    },
    {
      "cell_type": "markdown",
      "metadata": {
        "id": "IjJjPRfdGy8A"
      },
      "source": [
        "Based on the Wichmann Hill algorithm used before Python 2.3."
      ]
    },
    {
      "cell_type": "code",
      "execution_count": 31,
      "metadata": {
        "tags": [],
        "id": "oo2nBNz5Gy8A"
      },
      "outputs": [],
      "source": [
        "rnd_state = None\n",
        "\n",
        "\n",
        "def seed(a):\n",
        "    global rnd_state\n",
        "    a, x = divmod(a, 30268)\n",
        "    a, y = divmod(a, 30306)\n",
        "    a, z = divmod(a, 30322)\n",
        "    rnd_state = int(x) + 1, int(y) + 1, int(z) + 1"
      ]
    },
    {
      "cell_type": "code",
      "execution_count": 32,
      "metadata": {
        "tags": [],
        "colab": {
          "base_uri": "https://localhost:8080/"
        },
        "id": "Wu1impXVGy8A",
        "outputId": "98c0682e-dbad-436f-e98b-81e275d77f75"
      },
      "outputs": [
        {
          "output_type": "execute_result",
          "data": {
            "text/plain": [
              "(4976, 20238, 499)"
            ]
          },
          "metadata": {},
          "execution_count": 32
        }
      ],
      "source": [
        "seed(457428938475)\n",
        "rnd_state"
      ]
    },
    {
      "cell_type": "code",
      "execution_count": 33,
      "metadata": {
        "tags": [],
        "id": "q6QDT43sGy8A"
      },
      "outputs": [],
      "source": [
        "# Pseudo random number generator\n",
        "def rand():\n",
        "    global rnd_state\n",
        "    x, y, z = rnd_state\n",
        "    x = (171 * x) % 30269\n",
        "    y = (172 * y) % 30307\n",
        "    z = (170 * z) % 30323\n",
        "    rnd_state = x, y, z\n",
        "    return (x / 30269 + y / 30307 + z / 30323) % 1.0"
      ]
    },
    {
      "cell_type": "code",
      "execution_count": 34,
      "metadata": {
        "tags": [],
        "colab": {
          "base_uri": "https://localhost:8080/"
        },
        "id": "izYHH1HNGy8B",
        "outputId": "7fd0f875-2139-47f6-c55d-460936d4aa45"
      },
      "outputs": [
        {
          "output_type": "execute_result",
          "data": {
            "text/plain": [
              "(0.7645251082582081, 0.7920889799553945, 0.06912886811267205)"
            ]
          },
          "metadata": {},
          "execution_count": 34
        }
      ],
      "source": [
        "rand(), rand(), rand()"
      ]
    },
    {
      "cell_type": "code",
      "execution_count": 35,
      "metadata": {
        "tags": [],
        "colab": {
          "base_uri": "https://localhost:8080/"
        },
        "id": "GFVjmgyZGy8B",
        "outputId": "a553cf4f-3c2e-44b6-f9d6-da84ffaf3a81"
      },
      "outputs": [
        {
          "output_type": "stream",
          "name": "stdout",
          "text": [
            "In parent: 0.9559050644103264\n",
            "In child: 0.9559050644103264\n"
          ]
        }
      ],
      "source": [
        "if os.fork():\n",
        "    print(f\"In parent: {rand()}\")\n",
        "else:\n",
        "    print(f\"In child: {rand()}\")\n",
        "    os._exit(os.EX_OK)"
      ]
    },
    {
      "cell_type": "markdown",
      "metadata": {
        "id": "YX8TVYRMGy8B"
      },
      "source": [
        "The reason for getting the same random number in both the parent and the child process is because they have the same random_state, which is used to generate the random number."
      ]
    },
    {
      "cell_type": "markdown",
      "metadata": {
        "id": "ppASidwuGy8B"
      },
      "source": [
        "Both `torch` and `numpy` fail at creating different random numbers in both the parent and the child processes. But `Python` works fine."
      ]
    },
    {
      "cell_type": "code",
      "execution_count": 36,
      "metadata": {
        "tags": [],
        "colab": {
          "base_uri": "https://localhost:8080/"
        },
        "id": "MkEiWPS2Gy8B",
        "outputId": "c2e1b11c-1e77-4945-d7ca-d9ee2950b0d5"
      },
      "outputs": [
        {
          "output_type": "stream",
          "name": "stdout",
          "text": [
            "In parent: tensor([0.6934])\n",
            "In child: tensor([0.6934])\n"
          ]
        }
      ],
      "source": [
        "if os.fork():\n",
        "    print(f\"In parent: {torch.rand(1)}\")\n",
        "else:\n",
        "    print(f\"In child: {torch.rand(1)}\")\n",
        "    os._exit(os.EX_OK)"
      ]
    },
    {
      "cell_type": "code",
      "execution_count": 37,
      "metadata": {
        "tags": [],
        "colab": {
          "base_uri": "https://localhost:8080/"
        },
        "id": "HKN5uby8Gy8B",
        "outputId": "c9ffdf85-6748-4302-96ce-e21fb80970fc"
      },
      "outputs": [
        {
          "output_type": "stream",
          "name": "stdout",
          "text": [
            "In parent: [-0.46499466]\n",
            "In child: [-0.46499466]\n"
          ]
        }
      ],
      "source": [
        "if os.fork():\n",
        "    print(f\"In parent: {np.random.randn(1)}\")\n",
        "else:\n",
        "    print(f\"In child: {np.random.randn(1)}\")\n",
        "    os._exit(os.EX_OK)"
      ]
    },
    {
      "cell_type": "code",
      "execution_count": 38,
      "metadata": {
        "tags": [],
        "colab": {
          "base_uri": "https://localhost:8080/"
        },
        "id": "Nt1FYi9QGy8C",
        "outputId": "63d7ddfe-1e72-4cb4-8e4e-94263b5e2a35"
      },
      "outputs": [
        {
          "output_type": "stream",
          "name": "stdout",
          "text": [
            "In parent: 0.20064017145731972\n",
            "In child: 0.14658143075002028\n"
          ]
        }
      ],
      "source": [
        "if os.fork():\n",
        "    print(f\"In parent: {random()}\")\n",
        "else:\n",
        "    print(f\"In child: {random()}\")\n",
        "    os._exit(os.EX_OK)"
      ]
    },
    {
      "cell_type": "code",
      "execution_count": 39,
      "metadata": {
        "tags": [],
        "colab": {
          "base_uri": "https://localhost:8080/",
          "height": 447
        },
        "id": "HDMsQ9uQGy8C",
        "outputId": "d37c0021-9141-49c9-ed9b-ed82e9fb2a7e"
      },
      "outputs": [
        {
          "output_type": "execute_result",
          "data": {
            "text/plain": [
              "[<matplotlib.lines.Line2D at 0x7f49a78cd790>]"
            ]
          },
          "metadata": {},
          "execution_count": 39
        },
        {
          "output_type": "display_data",
          "data": {
            "text/plain": [
              "<Figure size 640x480 with 1 Axes>"
            ],
            "image/png": "[encoded data removed]"
          },
          "metadata": {}
        }
      ],
      "source": [
        "plt.plot([rand() for _ in range(50)])"
      ]
    },
    {
      "cell_type": "markdown",
      "metadata": {
        "id": "B0S5K4ofGy8C"
      },
      "source": [
        "There is not relationship between random numbers as expected."
      ]
    },
    {
      "cell_type": "code",
      "execution_count": 40,
      "metadata": {
        "tags": [],
        "colab": {
          "base_uri": "https://localhost:8080/",
          "height": 534
        },
        "id": "BjDoIu9EGy8C",
        "outputId": "4d2f345c-4d07-4bd6-e90b-b0edea8f6f44"
      },
      "outputs": [
        {
          "output_type": "execute_result",
          "data": {
            "text/plain": [
              "(array([ 959.,  972., 1036., 1019., 1037.,  971.,  997., 1000., 1036.,\n",
              "         973.]),\n",
              " array([6.60514437e-06, 1.00005135e-01, 2.00003666e-01, 3.00002196e-01,\n",
              "        4.00000726e-01, 4.99999256e-01, 5.99997787e-01, 6.99996317e-01,\n",
              "        7.99994847e-01, 8.99993378e-01, 9.99991908e-01]),\n",
              " <BarContainer object of 10 artists>)"
            ]
          },
          "metadata": {},
          "execution_count": 40
        },
        {
          "output_type": "display_data",
          "data": {
            "text/plain": [
              "<Figure size 640x480 with 1 Axes>"
            ],
            "image/png": "[encoded data removed]"
          },
          "metadata": {}
        }
      ],
      "source": [
        "plt.hist([rand() for _ in range(10000)])"
      ]
    },
    {
      "cell_type": "markdown",
      "metadata": {
        "id": "7H-QvykmGy8C"
      },
      "source": [
        "As expected, the generated numbers follow closely the standard uniform distribution."
      ]
    },
    {
      "cell_type": "code",
      "execution_count": 41,
      "metadata": {
        "tags": [],
        "colab": {
          "base_uri": "https://localhost:8080/"
        },
        "id": "oOxy_IaQGy8C",
        "outputId": "28a8e32a-b727-4915-daab-7d197c3ee921"
      },
      "outputs": [
        {
          "output_type": "stream",
          "name": "stdout",
          "text": [
            "4.48 ms ± 523 µs per loop (mean ± std. dev. of 7 runs, 10 loops each)\n"
          ]
        }
      ],
      "source": [
        "%timeit -n 10 list(chunks([rand() for _ in range(7840)], 10))"
      ]
    },
    {
      "cell_type": "code",
      "execution_count": 42,
      "metadata": {
        "tags": [],
        "colab": {
          "base_uri": "https://localhost:8080/"
        },
        "id": "o1DZIBdiGy8D",
        "outputId": "8bf610a4-45f8-411f-bd02-1673c08c1979"
      },
      "outputs": [
        {
          "output_type": "stream",
          "name": "stdout",
          "text": [
            "143 µs ± 72.9 µs per loop (mean ± std. dev. of 7 runs, 10 loops each)\n"
          ]
        }
      ],
      "source": [
        "%timeit -n 10 torch.randn(784,10)"
      ]
    },
    {
      "cell_type": "markdown",
      "metadata": {
        "id": "fGA8nSnhGy8D"
      },
      "source": [
        "`torch` version is much faster."
      ]
    },
    {
      "cell_type": "markdown",
      "metadata": {
        "tags": [],
        "id": "ZDk7rzMcGy8D"
      },
      "source": [
        "## Matrix multiplication"
      ]
    },
    {
      "cell_type": "code",
      "execution_count": 43,
      "metadata": {
        "tags": [],
        "id": "0_mpuGw_Gy8D"
      },
      "outputs": [],
      "source": [
        "torch.manual_seed(1)\n",
        "weights = torch.randn(784, 10)\n",
        "bias = torch.zeros(10)"
      ]
    },
    {
      "cell_type": "code",
      "execution_count": 44,
      "metadata": {
        "tags": [],
        "id": "Ei2nH0b1Gy8D"
      },
      "outputs": [],
      "source": [
        "m1 = x_valid[:5]\n",
        "m2 = weights"
      ]
    },
    {
      "cell_type": "code",
      "execution_count": 45,
      "metadata": {
        "tags": [],
        "colab": {
          "base_uri": "https://localhost:8080/"
        },
        "id": "KmBrziTuGy8D",
        "outputId": "84cad646-88f9-4dd8-cfa0-c67a38128e7e"
      },
      "outputs": [
        {
          "output_type": "execute_result",
          "data": {
            "text/plain": [
              "(torch.Size([5, 784]), torch.Size([784, 10]))"
            ]
          },
          "metadata": {},
          "execution_count": 45
        }
      ],
      "source": [
        "m1.shape, m2.shape"
      ]
    },
    {
      "cell_type": "code",
      "execution_count": 46,
      "metadata": {
        "tags": [],
        "colab": {
          "base_uri": "https://localhost:8080/"
        },
        "id": "y7TN2eKZGy8D",
        "outputId": "be51254f-d6e1-4a45-ee6d-2c615110b3a5"
      },
      "outputs": [
        {
          "output_type": "execute_result",
          "data": {
            "text/plain": [
              "((5, 784), (784, 10))"
            ]
          },
          "metadata": {},
          "execution_count": 46
        }
      ],
      "source": [
        "ar, ac = m1.shape  # n_rows * n_cols\n",
        "br, bc = m2.shape\n",
        "(ar, ac), (br, bc)"
      ]
    },
    {
      "cell_type": "code",
      "execution_count": 47,
      "metadata": {
        "tags": [],
        "colab": {
          "base_uri": "https://localhost:8080/"
        },
        "id": "nX9OmXPXGy8E",
        "outputId": "7a2cf630-61f6-40e5-95f6-f752ecbc9a9b"
      },
      "outputs": [
        {
          "output_type": "execute_result",
          "data": {
            "text/plain": [
              "torch.Size([5, 10])"
            ]
          },
          "metadata": {},
          "execution_count": 47
        }
      ],
      "source": [
        "t1 = torch.zeros(ar, bc)\n",
        "t1.shape"
      ]
    },
    {
      "cell_type": "code",
      "execution_count": 48,
      "metadata": {
        "tags": [],
        "id": "HKQkeTCiGy8E"
      },
      "outputs": [],
      "source": [
        "for i in range(ar):  # 5\n",
        "    for j in range(bc):  # 10\n",
        "        for k in range(ac):  # 784\n",
        "            t1[i, j] += m1[i, k] * m2[k, j]"
      ]
    },
    {
      "cell_type": "code",
      "execution_count": 49,
      "metadata": {
        "tags": [],
        "colab": {
          "base_uri": "https://localhost:8080/"
        },
        "id": "KkbUAsRbGy8E",
        "outputId": "ecaf796b-291a-4aaa-ed8c-96267e1f9b78"
      },
      "outputs": [
        {
          "output_type": "execute_result",
          "data": {
            "text/plain": [
              "tensor([[-10.9417,  -0.6844,  -7.0038,  -4.0066,  -2.0857,  -3.3588,   3.9127,\n",
              "          -3.4375, -11.4696,  -2.1153],\n",
              "        [ 14.5430,   5.9977,   2.8914,  -4.0777,   6.5914, -14.7383,  -9.2787,\n",
              "           2.1577, -15.2772,  -2.6758],\n",
              "        [  2.2204,  -3.2171,  -4.7988,  -6.0453,  14.1661,  -8.9824,  -4.7922,\n",
              "          -5.4446, -20.6758,  13.5657],\n",
              "        [ -6.7097,   8.8998,  -7.4611,  -7.8966,   2.6994,  -4.7260, -11.0278,\n",
              "         -12.9776,  -6.4443,   3.6376],\n",
              "        [ -2.4444,  -6.4034,  -2.3984,  -9.0371,  11.1772,  -5.7724,  -8.9214,\n",
              "          -3.7862,  -8.9827,   5.2797]])"
            ]
          },
          "metadata": {},
          "execution_count": 49
        }
      ],
      "source": [
        "t1"
      ]
    },
    {
      "cell_type": "code",
      "execution_count": 50,
      "metadata": {
        "tags": [],
        "colab": {
          "base_uri": "https://localhost:8080/"
        },
        "id": "ZSOf5Kb_Gy8E",
        "outputId": "7bea802e-9434-4396-8f27-bff99d007ebc"
      },
      "outputs": [
        {
          "output_type": "execute_result",
          "data": {
            "text/plain": [
              "torch.Size([5, 10])"
            ]
          },
          "metadata": {},
          "execution_count": 50
        }
      ],
      "source": [
        "t1.shape"
      ]
    },
    {
      "cell_type": "code",
      "execution_count": 51,
      "metadata": {
        "tags": [],
        "colab": {
          "base_uri": "https://localhost:8080/"
        },
        "id": "rAPwRpJqGy8E",
        "outputId": "fee98f64-ae42-4a61-c45d-d217e9ca5830"
      },
      "outputs": [
        {
          "output_type": "execute_result",
          "data": {
            "text/plain": [
              "tensor([[-10.94,  -0.68,  -7.00,  -4.01,  -2.09,  -3.36,   3.91,  -3.44, -11.47,  -2.12],\n",
              "        [ 14.54,   6.00,   2.89,  -4.08,   6.59, -14.74,  -9.28,   2.16, -15.28,  -2.68],\n",
              "        [  2.22,  -3.22,  -4.80,  -6.05,  14.17,  -8.98,  -4.79,  -5.44, -20.68,  13.57],\n",
              "        [ -6.71,   8.90,  -7.46,  -7.90,   2.70,  -4.73, -11.03, -12.98,  -6.44,   3.64],\n",
              "        [ -2.44,  -6.40,  -2.40,  -9.04,  11.18,  -5.77,  -8.92,  -3.79,  -8.98,   5.28]])"
            ]
          },
          "metadata": {},
          "execution_count": 51
        }
      ],
      "source": [
        "torch.set_printoptions(precision=2, linewidth=140, sci_mode=False)\n",
        "t1"
      ]
    },
    {
      "cell_type": "code",
      "execution_count": 52,
      "metadata": {
        "tags": [],
        "id": "Wm4syPMgGy8E"
      },
      "outputs": [],
      "source": [
        "np.set_printoptions(precision=2, linewidth=140)"
      ]
    },
    {
      "cell_type": "code",
      "execution_count": 53,
      "metadata": {
        "tags": [],
        "id": "S9p4YvjiGy8F"
      },
      "outputs": [],
      "source": [
        "def matmul(a, b):\n",
        "    (ar, ac), (br, bc) = a.shape, b.shape\n",
        "    c = torch.zeros(ar, bc)\n",
        "    for i in range(ar):\n",
        "        for j in range(bc):\n",
        "            for k in range(ac):\n",
        "                c[i, j] += a[i, k] * b[k, j]\n",
        "    return c"
      ]
    },
    {
      "cell_type": "code",
      "execution_count": 54,
      "metadata": {
        "tags": [],
        "colab": {
          "base_uri": "https://localhost:8080/"
        },
        "id": "Sfvs_zStGy8F",
        "outputId": "41303c9b-e9ed-4ef6-cbc9-c3cc3f4f6af8"
      },
      "outputs": [
        {
          "output_type": "stream",
          "name": "stdout",
          "text": [
            "CPU times: user 1.35 s, sys: 4.07 ms, total: 1.36 s\n",
            "Wall time: 1.4 s\n"
          ]
        }
      ],
      "source": [
        "%time _=matmul(m1, m2)"
      ]
    },
    {
      "cell_type": "code",
      "execution_count": 55,
      "metadata": {
        "tags": [],
        "colab": {
          "base_uri": "https://localhost:8080/"
        },
        "id": "8bTnl3IsGy8F",
        "outputId": "8e11c83b-7495-4ece-f4fb-fae2bd1fafd3"
      },
      "outputs": [
        {
          "output_type": "execute_result",
          "data": {
            "text/plain": [
              "39200"
            ]
          },
          "metadata": {},
          "execution_count": 55
        }
      ],
      "source": [
        "ar * bc * ac"
      ]
    },
    {
      "cell_type": "markdown",
      "metadata": {
        "tags": [],
        "id": "iA_9dgVfGy8F"
      },
      "source": [
        "## Numba"
      ]
    },
    {
      "cell_type": "code",
      "execution_count": 56,
      "metadata": {
        "id": "xmHNYe45Gy8F"
      },
      "outputs": [],
      "source": [
        "@njit\n",
        "def dot(a,b):\n",
        "    res = 0.\n",
        "    for i in range(len(a)): res+=a[i]*b[i]\n",
        "    return res"
      ]
    },
    {
      "cell_type": "code",
      "execution_count": 58,
      "metadata": {
        "colab": {
          "base_uri": "https://localhost:8080/"
        },
        "id": "R5lbm4OPGy8I",
        "outputId": "41484995-4cad-4b53-eb29-2272dc01d723"
      },
      "outputs": [
        {
          "output_type": "stream",
          "name": "stdout",
          "text": [
            "CPU times: user 610 ms, sys: 86.6 ms, total: 697 ms\n",
            "Wall time: 1.02 s\n"
          ]
        },
        {
          "output_type": "execute_result",
          "data": {
            "text/plain": [
              "20.0"
            ]
          },
          "metadata": {},
          "execution_count": 58
        }
      ],
      "source": [
        "%time dot(np.array([1.,2,3]), np.array([2.,3,4]))"
      ]
    },
    {
      "cell_type": "code",
      "execution_count": 60,
      "metadata": {
        "colab": {
          "base_uri": "https://localhost:8080/"
        },
        "id": "bp6TMx_6Gy8I",
        "outputId": "afdce080-d1f2-47a9-a666-689b30fa28be"
      },
      "outputs": [
        {
          "output_type": "stream",
          "name": "stdout",
          "text": [
            "CPU times: user 33 µs, sys: 6 µs, total: 39 µs\n",
            "Wall time: 41.7 µs\n"
          ]
        },
        {
          "output_type": "execute_result",
          "data": {
            "text/plain": [
              "20.0"
            ]
          },
          "metadata": {},
          "execution_count": 60
        }
      ],
      "source": [
        "%time dot(np.array([1.,2,3]),np.array([2.,3,4]))"
      ]
    },
    {
      "cell_type": "markdown",
      "metadata": {
        "id": "MFzzr9C1Gy8J"
      },
      "source": [
        "Now only two of our loops are running in Python, not three:"
      ]
    },
    {
      "cell_type": "code",
      "execution_count": 61,
      "metadata": {
        "id": "xaRtrddjGy8J"
      },
      "outputs": [],
      "source": [
        "def matmul(a,b):\n",
        "    (ar,ac),(br,bc) = a.shape,b.shape\n",
        "    c = torch.zeros(ar, bc)\n",
        "    for i in range(ar):\n",
        "        for j in range(bc): c[i,j] = dot(a[i,:], b[:,j])\n",
        "    return c"
      ]
    },
    {
      "cell_type": "code",
      "execution_count": 62,
      "metadata": {
        "id": "IsFJguXIGy8J"
      },
      "outputs": [],
      "source": [
        "m1a,m2a = m1.numpy(),m2.numpy()"
      ]
    },
    {
      "cell_type": "code",
      "execution_count": 63,
      "metadata": {
        "id": "OFz6FIapGy8J"
      },
      "outputs": [],
      "source": [
        "test_close(t1,matmul(m1a, m2a))"
      ]
    },
    {
      "cell_type": "code",
      "execution_count": 64,
      "metadata": {
        "colab": {
          "base_uri": "https://localhost:8080/"
        },
        "id": "sNYfqMvTGy8J",
        "outputId": "da225e4b-0d99-488b-e0ad-76ff813a3c75"
      },
      "outputs": [
        {
          "output_type": "stream",
          "name": "stdout",
          "text": [
            "708 µs ± 35.8 µs per loop (mean ± std. dev. of 7 runs, 50 loops each)\n"
          ]
        }
      ],
      "source": [
        "%timeit -n 50 matmul(m1a,m2a)"
      ]
    },
    {
      "cell_type": "markdown",
      "metadata": {
        "tags": [],
        "id": "ErifF9A3Gy8K"
      },
      "source": [
        "## Elementwise ops"
      ]
    },
    {
      "cell_type": "markdown",
      "metadata": {
        "id": "STvgkQ7MGy8K"
      },
      "source": [
        "[TryAPL](https://tryapl.org/)"
      ]
    },
    {
      "cell_type": "code",
      "execution_count": 65,
      "metadata": {
        "tags": [],
        "colab": {
          "base_uri": "https://localhost:8080/"
        },
        "id": "rqiTiq6tGy8K",
        "outputId": "e7cbc7a8-0525-4ddb-ed8a-f67af02b9496"
      },
      "outputs": [
        {
          "output_type": "execute_result",
          "data": {
            "text/plain": [
              "(tensor([10.,  6., -4.]), tensor([2., 8., 7.]))"
            ]
          },
          "metadata": {},
          "execution_count": 65
        }
      ],
      "source": [
        "a = tensor([10.0, 6, -4])\n",
        "b = tensor([2.0, 8, 7])\n",
        "a, b"
      ]
    },
    {
      "cell_type": "code",
      "execution_count": 66,
      "metadata": {
        "tags": [],
        "colab": {
          "base_uri": "https://localhost:8080/"
        },
        "id": "l81RgwbzGy8K",
        "outputId": "cadb0054-4afe-455c-c603-34a97ad4bfa0"
      },
      "outputs": [
        {
          "output_type": "execute_result",
          "data": {
            "text/plain": [
              "tensor([12., 14.,  3.])"
            ]
          },
          "metadata": {},
          "execution_count": 66
        }
      ],
      "source": [
        "a + b"
      ]
    },
    {
      "cell_type": "code",
      "execution_count": 67,
      "metadata": {
        "tags": [],
        "colab": {
          "base_uri": "https://localhost:8080/"
        },
        "id": "bn-_CFzSGy8L",
        "outputId": "b799f6d2-5ce8-445c-d510-f845073d8240"
      },
      "outputs": [
        {
          "output_type": "execute_result",
          "data": {
            "text/plain": [
              "tensor(0.67)"
            ]
          },
          "metadata": {},
          "execution_count": 67
        }
      ],
      "source": [
        "(a < b).float().mean()"
      ]
    },
    {
      "cell_type": "code",
      "execution_count": 68,
      "metadata": {
        "tags": [],
        "colab": {
          "base_uri": "https://localhost:8080/"
        },
        "id": "llukhN3mGy8L",
        "outputId": "68f957b1-e60d-4386-bf26-bf4b3b9ea33c"
      },
      "outputs": [
        {
          "output_type": "execute_result",
          "data": {
            "text/plain": [
              "tensor([[1., 2., 3.],\n",
              "        [4., 5., 6.],\n",
              "        [7., 8., 9.]])"
            ]
          },
          "metadata": {},
          "execution_count": 68
        }
      ],
      "source": [
        "m = tensor([[1.0, 2, 3], [4, 5, 6], [7, 8, 9]])\n",
        "m"
      ]
    },
    {
      "cell_type": "markdown",
      "metadata": {
        "id": "o-pmta6NGy8L"
      },
      "source": [
        "Frobenius norm:\n",
        "\n",
        "$$\\| A \\|_F = \\left( \\sum_{i,j=1}^n | a_{ij} |^2 \\right)^{1/2}$$\n",
        "\n",
        "*Hint*: you don't normally need to write equations in LaTeX yourself, instead, you can click 'edit' in Wikipedia and copy the LaTeX from there (which is what I did for the above equation). Or on arxiv.org, click \"Download: Other formats\" in the top right, then \"Download source\"; rename the downloaded file to end in `.tgz` if it doesn't already, and you should find the source there, including the equations to copy and paste. This is the source LaTeX that I pasted to render the equation above:\n",
        "\n",
        "```latex\n",
        "$$\\| A \\|_F = \\left( \\sum_{i,j=1}^n | a_{ij} |^2 \\right)^{1/2}$$\n",
        "```"
      ]
    },
    {
      "cell_type": "code",
      "execution_count": 69,
      "metadata": {
        "tags": [],
        "colab": {
          "base_uri": "https://localhost:8080/"
        },
        "id": "0gMJkFdyGy8L",
        "outputId": "21775082-4261-4bfa-9913-3d6a649483e6"
      },
      "outputs": [
        {
          "output_type": "execute_result",
          "data": {
            "text/plain": [
              "tensor(285.)"
            ]
          },
          "metadata": {},
          "execution_count": 69
        }
      ],
      "source": [
        "sf = (m * m).sum()\n",
        "sf"
      ]
    },
    {
      "cell_type": "code",
      "execution_count": 70,
      "metadata": {
        "tags": [],
        "colab": {
          "base_uri": "https://localhost:8080/"
        },
        "id": "MGv9vzx_Gy8L",
        "outputId": "f5dc4438-69df-4fbb-e663-f614aabf0d34"
      },
      "outputs": [
        {
          "output_type": "execute_result",
          "data": {
            "text/plain": [
              "tensor(16.88)"
            ]
          },
          "metadata": {},
          "execution_count": 70
        }
      ],
      "source": [
        "sf.sqrt()"
      ]
    },
    {
      "cell_type": "code",
      "execution_count": 71,
      "metadata": {
        "tags": [],
        "colab": {
          "base_uri": "https://localhost:8080/"
        },
        "id": "l8Tw_6sNGy8L",
        "outputId": "fe3a1469-1b1a-4a00-9b58-d6010a7dc16f"
      },
      "outputs": [
        {
          "output_type": "execute_result",
          "data": {
            "text/plain": [
              "(tensor([7., 8., 9.]), tensor([3., 6., 9.]))"
            ]
          },
          "metadata": {},
          "execution_count": 71
        }
      ],
      "source": [
        "m[2, :], m[:, 2]"
      ]
    },
    {
      "cell_type": "code",
      "execution_count": 72,
      "metadata": {
        "tags": [],
        "colab": {
          "base_uri": "https://localhost:8080/"
        },
        "id": "5-XTw6zCGy8M",
        "outputId": "4e562017-d21b-49a8-bdff-9d49f5861ac9"
      },
      "outputs": [
        {
          "output_type": "execute_result",
          "data": {
            "text/plain": [
              "tensor([7., 8., 9.])"
            ]
          },
          "metadata": {},
          "execution_count": 72
        }
      ],
      "source": [
        "m[2]"
      ]
    },
    {
      "cell_type": "code",
      "execution_count": 73,
      "metadata": {
        "tags": [],
        "id": "0l_hFywWGy8M"
      },
      "outputs": [],
      "source": [
        "def matmul(a, b):\n",
        "    (ar, ac), (br, bc) = a.shape, b.shape\n",
        "    c = torch.zeros(ar, bc)\n",
        "    for i in range(ar):\n",
        "        for j in range(bc):\n",
        "            c[i, j] = (a[i, :] * b[:, j]).sum()\n",
        "    return c"
      ]
    },
    {
      "cell_type": "code",
      "execution_count": 74,
      "metadata": {
        "tags": [],
        "id": "zg6mvK34Gy8M"
      },
      "outputs": [],
      "source": [
        "test_close(t1, matmul(m1, m2))"
      ]
    },
    {
      "cell_type": "code",
      "execution_count": 75,
      "metadata": {
        "tags": [],
        "colab": {
          "base_uri": "https://localhost:8080/"
        },
        "id": "wwzeLwqaGy8M",
        "outputId": "9573be02-eceb-4114-ccf2-034ab4b96c83"
      },
      "outputs": [
        {
          "output_type": "stream",
          "name": "stdout",
          "text": [
            "1.35 ms ± 85.4 µs per loop (mean ± std. dev. of 7 runs, 50 loops each)\n"
          ]
        }
      ],
      "source": [
        "%timeit -n 50 _=matmul(m1, m2)"
      ]
    },
    {
      "cell_type": "code",
      "execution_count": 76,
      "metadata": {
        "tags": [],
        "id": "wVrGwkaeGy8M"
      },
      "outputs": [],
      "source": [
        "def matmul(a, b):\n",
        "    (ar, ac), (br, bc) = a.shape, b.shape\n",
        "    c = torch.zeros(ar, bc)\n",
        "    for i in range(ar):\n",
        "        for j in range(bc):\n",
        "            c[i, j] = torch.dot(a[i, :], b[:, j])\n",
        "    return c"
      ]
    },
    {
      "cell_type": "code",
      "execution_count": 77,
      "metadata": {
        "tags": [],
        "id": "yqINWpjuGy8M"
      },
      "outputs": [],
      "source": [
        "test_close(t1, matmul(m1, m2))"
      ]
    },
    {
      "cell_type": "code",
      "execution_count": 78,
      "metadata": {
        "tags": [],
        "colab": {
          "base_uri": "https://localhost:8080/"
        },
        "id": "hbX-ANQkGy8N",
        "outputId": "d9a9e0d2-9513-4e78-8d89-6be1f675e6d4"
      },
      "outputs": [
        {
          "output_type": "stream",
          "name": "stdout",
          "text": [
            "1.58 ms ± 72.4 µs per loop (mean ± std. dev. of 7 runs, 50 loops each)\n"
          ]
        }
      ],
      "source": [
        "%timeit -n 50 _=matmul(m1, m2)"
      ]
    },
    {
      "cell_type": "markdown",
      "metadata": {
        "tags": [],
        "id": "LyZq-71HGy8N"
      },
      "source": [
        "## Broadcasting"
      ]
    },
    {
      "cell_type": "markdown",
      "metadata": {
        "id": "d62YOrLiGy8N"
      },
      "source": [
        "The term **broadcasting** describes how arrays with different shapes are treated during arithmetic operations.\n",
        "\n",
        "From the [Numpy Documentation](https://docs.scipy.org/doc/numpy-1.10.0/user/basics.broadcasting.html):\n",
        "\n",
        "    The term broadcasting describes how numpy treats arrays with \n",
        "    different shapes during arithmetic operations. Subject to certain \n",
        "    constraints, the smaller array is “broadcast” across the larger \n",
        "    array so that they have compatible shapes. Broadcasting provides a \n",
        "    means of vectorizing array operations so that looping occurs in C\n",
        "    instead of Python. It does this without making needless copies of \n",
        "    data and usually leads to efficient algorithm implementations.\n",
        "    \n",
        "In addition to the efficiency of broadcasting, it allows developers to write less code, which typically leads to fewer errors.\n",
        "\n",
        "*This section was adapted from [Chapter 4](http://nbviewer.jupyter.org/github/fastai/numerical-linear-algebra/blob/master/nbs/4.%20Compressed%20Sensing%20of%20CT%20Scans%20with%20Robust%20Regression.ipynb#4.-Compressed-Sensing-of-CT-Scans-with-Robust-Regression) of the fast.ai [Computational Linear Algebra](https://github.com/fastai/numerical-linear-algebra) course.*"
      ]
    },
    {
      "cell_type": "markdown",
      "metadata": {
        "id": "XJWPwdOQGy8N"
      },
      "source": [
        "### Broadcasting with a scalar"
      ]
    },
    {
      "cell_type": "code",
      "execution_count": 79,
      "metadata": {
        "tags": [],
        "colab": {
          "base_uri": "https://localhost:8080/"
        },
        "id": "hSp35wbfGy8N",
        "outputId": "52850cc7-d09e-4f00-ab13-93069fa210e0"
      },
      "outputs": [
        {
          "output_type": "execute_result",
          "data": {
            "text/plain": [
              "tensor([10.,  6., -4.])"
            ]
          },
          "metadata": {},
          "execution_count": 79
        }
      ],
      "source": [
        "a"
      ]
    },
    {
      "cell_type": "code",
      "execution_count": 80,
      "metadata": {
        "tags": [],
        "colab": {
          "base_uri": "https://localhost:8080/"
        },
        "id": "q2W6ac8MGy8N",
        "outputId": "fd304faa-d048-4d77-9955-19b502f0d8af"
      },
      "outputs": [
        {
          "output_type": "execute_result",
          "data": {
            "text/plain": [
              "tensor([ True,  True, False])"
            ]
          },
          "metadata": {},
          "execution_count": 80
        }
      ],
      "source": [
        "a > 0"
      ]
    },
    {
      "cell_type": "markdown",
      "metadata": {
        "id": "tIgjKbB9Gy8N"
      },
      "source": [
        "How are we able to do `a > 0`?  0 is being **broadcast** to have the same dimensions as a.\n",
        "\n",
        "For instance you can normalize our dataset by subtracting the mean (a scalar) from the entire data set (a matrix) and dividing by the standard deviation (another scalar), using broadcasting.\n",
        "\n",
        "Other examples of broadcasting with a scalar:"
      ]
    },
    {
      "cell_type": "code",
      "execution_count": 81,
      "metadata": {
        "tags": [],
        "colab": {
          "base_uri": "https://localhost:8080/"
        },
        "id": "vu-3Cc2NGy8O",
        "outputId": "ab2f0ccf-295b-4934-99d5-7b050793c6e6"
      },
      "outputs": [
        {
          "output_type": "execute_result",
          "data": {
            "text/plain": [
              "tensor([11.,  7., -3.])"
            ]
          },
          "metadata": {},
          "execution_count": 81
        }
      ],
      "source": [
        "a + 1"
      ]
    },
    {
      "cell_type": "code",
      "execution_count": 82,
      "metadata": {
        "tags": [],
        "colab": {
          "base_uri": "https://localhost:8080/"
        },
        "id": "8i9m_nKlGy8O",
        "outputId": "8b4e40f3-2791-4ea8-e9ea-07e4aa4b1601"
      },
      "outputs": [
        {
          "output_type": "execute_result",
          "data": {
            "text/plain": [
              "tensor([[1., 2., 3.],\n",
              "        [4., 5., 6.],\n",
              "        [7., 8., 9.]])"
            ]
          },
          "metadata": {},
          "execution_count": 82
        }
      ],
      "source": [
        "m"
      ]
    },
    {
      "cell_type": "code",
      "execution_count": 83,
      "metadata": {
        "tags": [],
        "colab": {
          "base_uri": "https://localhost:8080/"
        },
        "id": "mbU3hoYoGy8O",
        "outputId": "914d4ac0-cbbd-4097-9b23-e26370fba179"
      },
      "outputs": [
        {
          "output_type": "execute_result",
          "data": {
            "text/plain": [
              "tensor([[ 2.,  4.,  6.],\n",
              "        [ 8., 10., 12.],\n",
              "        [14., 16., 18.]])"
            ]
          },
          "metadata": {},
          "execution_count": 83
        }
      ],
      "source": [
        "2 * m"
      ]
    },
    {
      "cell_type": "markdown",
      "metadata": {
        "id": "MHw3CxggGy8O"
      },
      "source": [
        "### Broadcasting a vector to a matrix"
      ]
    },
    {
      "cell_type": "markdown",
      "metadata": {
        "id": "xPc0tMfPGy8O"
      },
      "source": [
        "Although broadcasting a scalar is an idea that dates back to APL, the more powerful idea of broadcasting across higher rank tensors [comes from](https://mail.python.org/pipermail/matrix-sig/1995-November/000143.html) a little known language called [Yorick](https://software.llnl.gov/yorick-doc/manual/yorick_50.html).\n",
        "\n",
        "We can also broadcast a vector to a matrix:"
      ]
    },
    {
      "cell_type": "code",
      "execution_count": 84,
      "metadata": {
        "tags": [],
        "colab": {
          "base_uri": "https://localhost:8080/"
        },
        "id": "3YOlaoRzGy8O",
        "outputId": "8e77eb77-760b-410d-97e7-dbc2defc7761"
      },
      "outputs": [
        {
          "output_type": "execute_result",
          "data": {
            "text/plain": [
              "tensor([10., 20., 30.])"
            ]
          },
          "metadata": {},
          "execution_count": 84
        }
      ],
      "source": [
        "c = tensor([10.0, 20, 30])\n",
        "c"
      ]
    },
    {
      "cell_type": "code",
      "execution_count": 85,
      "metadata": {
        "tags": [],
        "colab": {
          "base_uri": "https://localhost:8080/"
        },
        "id": "_5CunZCeGy8O",
        "outputId": "d64b6049-3c17-43ac-e701-5bd346b1cd57"
      },
      "outputs": [
        {
          "output_type": "execute_result",
          "data": {
            "text/plain": [
              "tensor([[1., 2., 3.],\n",
              "        [4., 5., 6.],\n",
              "        [7., 8., 9.]])"
            ]
          },
          "metadata": {},
          "execution_count": 85
        }
      ],
      "source": [
        "m"
      ]
    },
    {
      "cell_type": "code",
      "execution_count": 86,
      "metadata": {
        "tags": [],
        "colab": {
          "base_uri": "https://localhost:8080/"
        },
        "id": "ntO-4jjjGy8P",
        "outputId": "082c805d-b729-4dfe-d5ff-6d80cbbf110f"
      },
      "outputs": [
        {
          "output_type": "execute_result",
          "data": {
            "text/plain": [
              "(torch.Size([3, 3]), torch.Size([3]))"
            ]
          },
          "metadata": {},
          "execution_count": 86
        }
      ],
      "source": [
        "m.shape, c.shape"
      ]
    },
    {
      "cell_type": "code",
      "execution_count": 87,
      "metadata": {
        "tags": [],
        "colab": {
          "base_uri": "https://localhost:8080/"
        },
        "id": "vZoz4OocGy8P",
        "outputId": "b1bfebcb-1d9b-4863-d264-04770d1c09c6"
      },
      "outputs": [
        {
          "output_type": "execute_result",
          "data": {
            "text/plain": [
              "tensor([[11., 22., 33.],\n",
              "        [14., 25., 36.],\n",
              "        [17., 28., 39.]])"
            ]
          },
          "metadata": {},
          "execution_count": 87
        }
      ],
      "source": [
        "m + c"
      ]
    },
    {
      "cell_type": "code",
      "execution_count": 88,
      "metadata": {
        "tags": [],
        "colab": {
          "base_uri": "https://localhost:8080/"
        },
        "id": "eIPouLfMGy8P",
        "outputId": "324e7a49-7d3f-42e0-d135-758ac4312f91"
      },
      "outputs": [
        {
          "output_type": "execute_result",
          "data": {
            "text/plain": [
              "tensor([[11., 22., 33.],\n",
              "        [14., 25., 36.],\n",
              "        [17., 28., 39.]])"
            ]
          },
          "metadata": {},
          "execution_count": 88
        }
      ],
      "source": [
        "c + m"
      ]
    },
    {
      "cell_type": "code",
      "execution_count": 89,
      "metadata": {
        "tags": [],
        "id": "LDDbwAicGy8P"
      },
      "outputs": [],
      "source": [
        "t = c.expand_as(m)"
      ]
    },
    {
      "cell_type": "code",
      "execution_count": 90,
      "metadata": {
        "tags": [],
        "colab": {
          "base_uri": "https://localhost:8080/"
        },
        "id": "BuhNgnRLGy8P",
        "outputId": "4d934826-67f6-4f80-f0c6-eee347ee2139"
      },
      "outputs": [
        {
          "output_type": "execute_result",
          "data": {
            "text/plain": [
              "tensor([[10., 20., 30.],\n",
              "        [10., 20., 30.],\n",
              "        [10., 20., 30.]])"
            ]
          },
          "metadata": {},
          "execution_count": 90
        }
      ],
      "source": [
        "t"
      ]
    },
    {
      "cell_type": "code",
      "execution_count": 91,
      "metadata": {
        "tags": [],
        "colab": {
          "base_uri": "https://localhost:8080/"
        },
        "id": "LVfuxepZGy8Q",
        "outputId": "b9892061-0410-4690-dd51-65d75647761e"
      },
      "outputs": [
        {
          "output_type": "execute_result",
          "data": {
            "text/plain": [
              "tensor([[11., 22., 33.],\n",
              "        [14., 25., 36.],\n",
              "        [17., 28., 39.]])"
            ]
          },
          "metadata": {},
          "execution_count": 91
        }
      ],
      "source": [
        "m + t"
      ]
    },
    {
      "cell_type": "markdown",
      "metadata": {
        "id": "pxvRDtTsGy8Q"
      },
      "source": [
        "We don't really copy the rows, but it looks as if we did. In fact, the rows are given a *stride* of 0."
      ]
    },
    {
      "cell_type": "code",
      "execution_count": 92,
      "metadata": {
        "tags": [],
        "colab": {
          "base_uri": "https://localhost:8080/"
        },
        "id": "a7IUEk9uGy8Q",
        "outputId": "81e9619f-a819-4269-fc82-4a519f9e858b"
      },
      "outputs": [
        {
          "output_type": "stream",
          "name": "stderr",
          "text": [
            "<ipython-input-92-9fabd8d8a8f0>:1: UserWarning: TypedStorage is deprecated. It will be removed in the future and UntypedStorage will be the only storage class. This should only matter to you if you are using storages directly.  To access UntypedStorage directly, use tensor.untyped_storage() instead of tensor.storage()\n",
            "  t.storage()\n",
            "/usr/local/lib/python3.9/dist-packages/IPython/lib/pretty.py:700: UserWarning: TypedStorage is deprecated. It will be removed in the future and UntypedStorage will be the only storage class. This should only matter to you if you are using storages directly.  To access UntypedStorage directly, use tensor.untyped_storage() instead of tensor.storage()\n",
            "  output = repr(obj)\n",
            "/usr/local/lib/python3.9/dist-packages/torch/storage.py:645: UserWarning: TypedStorage is deprecated. It will be removed in the future and UntypedStorage will be the only storage class. This should only matter to you if you are using storages directly.  To access UntypedStorage directly, use tensor.untyped_storage() instead of tensor.storage()\n",
            "  return str(self)\n",
            "/usr/local/lib/python3.9/dist-packages/torch/storage.py:636: UserWarning: TypedStorage is deprecated. It will be removed in the future and UntypedStorage will be the only storage class. This should only matter to you if you are using storages directly.  To access UntypedStorage directly, use tensor.untyped_storage() instead of tensor.storage()\n",
            "  f'device={self.device}) of size {len(self)}]')\n",
            "/usr/local/lib/python3.9/dist-packages/torch/storage.py:637: UserWarning: TypedStorage is deprecated. It will be removed in the future and UntypedStorage will be the only storage class. This should only matter to you if you are using storages directly.  To access UntypedStorage directly, use tensor.untyped_storage() instead of tensor.storage()\n",
            "  if self.device.type == 'meta':\n",
            "/usr/local/lib/python3.9/dist-packages/torch/storage.py:640: UserWarning: TypedStorage is deprecated. It will be removed in the future and UntypedStorage will be the only storage class. This should only matter to you if you are using storages directly.  To access UntypedStorage directly, use tensor.untyped_storage() instead of tensor.storage()\n",
            "  data_str = ' ' + '\\n '.join(str(self[i]) for i in range(self.size()))\n"
          ]
        },
        {
          "output_type": "execute_result",
          "data": {
            "text/plain": [
              " 10.0\n",
              " 20.0\n",
              " 30.0\n",
              "[torch.storage.TypedStorage(dtype=torch.float32, device=cpu) of size 3]"
            ]
          },
          "metadata": {},
          "execution_count": 92
        }
      ],
      "source": [
        "t.storage()"
      ]
    },
    {
      "cell_type": "code",
      "execution_count": 93,
      "metadata": {
        "tags": [],
        "colab": {
          "base_uri": "https://localhost:8080/"
        },
        "id": "teBzcnVsGy8Q",
        "outputId": "42bf32bc-b911-46f4-fb2d-ea0f6845974c"
      },
      "outputs": [
        {
          "output_type": "execute_result",
          "data": {
            "text/plain": [
              "((0, 1), torch.Size([3, 3]))"
            ]
          },
          "metadata": {},
          "execution_count": 93
        }
      ],
      "source": [
        "t.stride(), t.shape"
      ]
    },
    {
      "cell_type": "markdown",
      "metadata": {
        "id": "XLiRhHWcGy8Q"
      },
      "source": [
        "You can index with the special value [None] or use `unsqueeze()` to convert a 1-dimensional array into a 2-dimensional array (although one of those dimensions has value 1)."
      ]
    },
    {
      "cell_type": "code",
      "execution_count": 94,
      "metadata": {
        "tags": [],
        "colab": {
          "base_uri": "https://localhost:8080/"
        },
        "id": "JXyjGhw9Gy8Q",
        "outputId": "a00342e0-88d0-4815-e34d-d6c3b6c47956"
      },
      "outputs": [
        {
          "output_type": "execute_result",
          "data": {
            "text/plain": [
              "(tensor([[10., 20., 30.]]), tensor([[10., 20., 30.]]))"
            ]
          },
          "metadata": {},
          "execution_count": 94
        }
      ],
      "source": [
        "c.unsqueeze(0), c[None, :]"
      ]
    },
    {
      "cell_type": "code",
      "execution_count": 95,
      "metadata": {
        "tags": [],
        "colab": {
          "base_uri": "https://localhost:8080/"
        },
        "id": "j2UJrLSoGy8Q",
        "outputId": "27081dbb-cdf3-4a54-c0cf-61346338f1b1"
      },
      "outputs": [
        {
          "output_type": "execute_result",
          "data": {
            "text/plain": [
              "(torch.Size([3]), torch.Size([1, 3]))"
            ]
          },
          "metadata": {},
          "execution_count": 95
        }
      ],
      "source": [
        "c.shape, c.unsqueeze(0).shape"
      ]
    },
    {
      "cell_type": "code",
      "execution_count": 96,
      "metadata": {
        "tags": [],
        "colab": {
          "base_uri": "https://localhost:8080/"
        },
        "id": "zrGsxMaHGy8R",
        "outputId": "dfdb8448-26d6-4a52-d7dd-30b8c11a0171"
      },
      "outputs": [
        {
          "output_type": "execute_result",
          "data": {
            "text/plain": [
              "(tensor([[10.],\n",
              "         [20.],\n",
              "         [30.]]),\n",
              " tensor([[10.],\n",
              "         [20.],\n",
              "         [30.]]))"
            ]
          },
          "metadata": {},
          "execution_count": 96
        }
      ],
      "source": [
        "c.unsqueeze(1), c[:, None]"
      ]
    },
    {
      "cell_type": "code",
      "execution_count": 97,
      "metadata": {
        "tags": [],
        "colab": {
          "base_uri": "https://localhost:8080/"
        },
        "id": "7rn173uZGy8R",
        "outputId": "cc12e50c-bc0b-4112-f617-cfc55d365f54"
      },
      "outputs": [
        {
          "output_type": "execute_result",
          "data": {
            "text/plain": [
              "(torch.Size([3]), torch.Size([3, 1]))"
            ]
          },
          "metadata": {},
          "execution_count": 97
        }
      ],
      "source": [
        "c.shape, c.unsqueeze(1).shape"
      ]
    },
    {
      "cell_type": "markdown",
      "metadata": {
        "id": "dkxlEzaBGy8R"
      },
      "source": [
        "You can always skip trailling ':'s. And '...' means '*all preceding dimensions*'"
      ]
    },
    {
      "cell_type": "code",
      "execution_count": 98,
      "metadata": {
        "tags": [],
        "colab": {
          "base_uri": "https://localhost:8080/"
        },
        "id": "OWcprCSbGy8R",
        "outputId": "846fa9e0-c606-4658-c574-c74d87dd0772"
      },
      "outputs": [
        {
          "output_type": "execute_result",
          "data": {
            "text/plain": [
              "(torch.Size([1, 3]), torch.Size([3, 1]))"
            ]
          },
          "metadata": {},
          "execution_count": 98
        }
      ],
      "source": [
        "c[None].shape, c[..., None].shape"
      ]
    },
    {
      "cell_type": "code",
      "execution_count": 99,
      "metadata": {
        "tags": [],
        "colab": {
          "base_uri": "https://localhost:8080/"
        },
        "id": "NRQl-nlIGy8R",
        "outputId": "4d646fb4-f7fa-4928-9bd7-b41701fb5e01"
      },
      "outputs": [
        {
          "output_type": "execute_result",
          "data": {
            "text/plain": [
              "tensor([[10., 10., 10.],\n",
              "        [20., 20., 20.],\n",
              "        [30., 30., 30.]])"
            ]
          },
          "metadata": {},
          "execution_count": 99
        }
      ],
      "source": [
        "c[:, None].expand_as(m)"
      ]
    },
    {
      "cell_type": "code",
      "execution_count": 100,
      "metadata": {
        "tags": [],
        "colab": {
          "base_uri": "https://localhost:8080/"
        },
        "id": "G5AKSM2_Gy8R",
        "outputId": "ed45c70b-e874-45ec-b2e7-580de733067a"
      },
      "outputs": [
        {
          "output_type": "execute_result",
          "data": {
            "text/plain": [
              "tensor([[11., 12., 13.],\n",
              "        [24., 25., 26.],\n",
              "        [37., 38., 39.]])"
            ]
          },
          "metadata": {},
          "execution_count": 100
        }
      ],
      "source": [
        "m + c[:, None]"
      ]
    },
    {
      "cell_type": "code",
      "execution_count": 101,
      "metadata": {
        "tags": [],
        "colab": {
          "base_uri": "https://localhost:8080/"
        },
        "id": "rQLCAraYGy8S",
        "outputId": "c6297fca-d2b4-4d10-974f-2e189bc953f8"
      },
      "outputs": [
        {
          "output_type": "execute_result",
          "data": {
            "text/plain": [
              "tensor([[11., 22., 33.],\n",
              "        [14., 25., 36.],\n",
              "        [17., 28., 39.]])"
            ]
          },
          "metadata": {},
          "execution_count": 101
        }
      ],
      "source": [
        "m + c[None, :]"
      ]
    },
    {
      "cell_type": "markdown",
      "metadata": {
        "id": "kraYdolHGy8S"
      },
      "source": [
        "### Broadcasting Rules"
      ]
    },
    {
      "cell_type": "code",
      "execution_count": 102,
      "metadata": {
        "tags": [],
        "colab": {
          "base_uri": "https://localhost:8080/"
        },
        "id": "z-7osy2sGy8S",
        "outputId": "247d91ea-d7e9-4c20-c779-31b3a9dc9614"
      },
      "outputs": [
        {
          "output_type": "execute_result",
          "data": {
            "text/plain": [
              "tensor([[10., 20., 30.]])"
            ]
          },
          "metadata": {},
          "execution_count": 102
        }
      ],
      "source": [
        "c[None, :]"
      ]
    },
    {
      "cell_type": "code",
      "execution_count": 103,
      "metadata": {
        "tags": [],
        "colab": {
          "base_uri": "https://localhost:8080/"
        },
        "id": "lpuosFnNGy8S",
        "outputId": "93856f69-9a16-4536-af8a-faa73280340d"
      },
      "outputs": [
        {
          "output_type": "execute_result",
          "data": {
            "text/plain": [
              "torch.Size([1, 3])"
            ]
          },
          "metadata": {},
          "execution_count": 103
        }
      ],
      "source": [
        "c[None, :].shape"
      ]
    },
    {
      "cell_type": "code",
      "execution_count": 104,
      "metadata": {
        "tags": [],
        "colab": {
          "base_uri": "https://localhost:8080/"
        },
        "id": "9cButN6oGy8S",
        "outputId": "c989b085-e7a4-4329-bab7-e62e87414c92"
      },
      "outputs": [
        {
          "output_type": "execute_result",
          "data": {
            "text/plain": [
              "tensor([[10.],\n",
              "        [20.],\n",
              "        [30.]])"
            ]
          },
          "metadata": {},
          "execution_count": 104
        }
      ],
      "source": [
        "c[:, None]"
      ]
    },
    {
      "cell_type": "code",
      "execution_count": 105,
      "metadata": {
        "tags": [],
        "colab": {
          "base_uri": "https://localhost:8080/"
        },
        "id": "ubdsCcnxGy8S",
        "outputId": "1b3a9402-1690-4fce-e4b6-79347968804c"
      },
      "outputs": [
        {
          "output_type": "execute_result",
          "data": {
            "text/plain": [
              "torch.Size([3, 1])"
            ]
          },
          "metadata": {},
          "execution_count": 105
        }
      ],
      "source": [
        "c[:, None].shape"
      ]
    },
    {
      "cell_type": "code",
      "execution_count": 106,
      "metadata": {
        "tags": [],
        "colab": {
          "base_uri": "https://localhost:8080/"
        },
        "id": "598dHBncGy8S",
        "outputId": "a22600cc-ec47-42af-eb36-7c6e0104c617"
      },
      "outputs": [
        {
          "output_type": "execute_result",
          "data": {
            "text/plain": [
              "tensor([[100., 200., 300.],\n",
              "        [200., 400., 600.],\n",
              "        [300., 600., 900.]])"
            ]
          },
          "metadata": {},
          "execution_count": 106
        }
      ],
      "source": [
        "c[None, :] * c[:, None]"
      ]
    },
    {
      "cell_type": "code",
      "execution_count": 107,
      "metadata": {
        "tags": [],
        "colab": {
          "base_uri": "https://localhost:8080/"
        },
        "id": "CgSnaZwgGy8S",
        "outputId": "7832e414-c4f1-457d-a663-c000ae893a56"
      },
      "outputs": [
        {
          "output_type": "execute_result",
          "data": {
            "text/plain": [
              "tensor([[False,  True,  True],\n",
              "        [False, False,  True],\n",
              "        [False, False, False]])"
            ]
          },
          "metadata": {},
          "execution_count": 107
        }
      ],
      "source": [
        "c[None] > c[:, None]"
      ]
    },
    {
      "cell_type": "code",
      "execution_count": 108,
      "metadata": {
        "tags": [],
        "colab": {
          "base_uri": "https://localhost:8080/"
        },
        "id": "2JFHhcbJGy8T",
        "outputId": "f84f249e-3ccd-45db-ff2e-0e3b7541bb61"
      },
      "outputs": [
        {
          "output_type": "execute_result",
          "data": {
            "text/plain": [
              "tensor([[ 1.,  4.,  9.],\n",
              "        [16., 25., 36.],\n",
              "        [49., 64., 81.]])"
            ]
          },
          "metadata": {},
          "execution_count": 108
        }
      ],
      "source": [
        "m * m"
      ]
    },
    {
      "cell_type": "markdown",
      "metadata": {
        "id": "TibuqTp8Gy8T"
      },
      "source": [
        "When operating on two arrays/tensors, Numpy/PyTorch compares their shapes element-wise. It starts with the **trailing dimensions**, and works its way forward. Two dimensions are **compatible** when\n",
        "\n",
        "- they are equal, or\n",
        "- one of them is 1, in which case that dimension is broadcasted to make it the same size\n",
        "\n",
        "Arrays do not need to have the same number of dimensions. For example, if you have a `256*256*3` array of RGB values, and you want to scale each color in the image by a different value, you can multiply the image by a one-dimensional array with 3 values. Lining up the sizes of the trailing axes of these arrays according to the broadcast rules, shows that they are compatible:\n",
        "\n",
        "    Image  (3d array): 256 x 256 x 3\n",
        "    Scale  (1d array):             3\n",
        "    Result (3d array): 256 x 256 x 3\n",
        "\n",
        "The [numpy documentation](https://docs.scipy.org/doc/numpy-1.13.0/user/basics.broadcasting.html#general-broadcasting-rules) includes several examples of what dimensions can and can not be broadcast together."
      ]
    },
    {
      "cell_type": "markdown",
      "metadata": {
        "tags": [],
        "id": "7iUDAaFFGy8T"
      },
      "source": [
        "## Matmul with broadcasting"
      ]
    },
    {
      "cell_type": "code",
      "execution_count": 109,
      "metadata": {
        "tags": [],
        "colab": {
          "base_uri": "https://localhost:8080/"
        },
        "id": "MDuCXELsGy8U",
        "outputId": "b2275865-55f6-426b-ab36-81e001b366cd"
      },
      "outputs": [
        {
          "output_type": "execute_result",
          "data": {
            "text/plain": [
              "(torch.Size([784]), torch.Size([784, 10]))"
            ]
          },
          "metadata": {},
          "execution_count": 109
        }
      ],
      "source": [
        "digit = m1[0]\n",
        "digit.shape, m2.shape"
      ]
    },
    {
      "cell_type": "code",
      "execution_count": 110,
      "metadata": {
        "tags": [],
        "colab": {
          "base_uri": "https://localhost:8080/"
        },
        "id": "vP07s3ImGy8U",
        "outputId": "999014b9-bb78-4210-fd97-fbb80cc196b9"
      },
      "outputs": [
        {
          "output_type": "execute_result",
          "data": {
            "text/plain": [
              "torch.Size([784, 1])"
            ]
          },
          "metadata": {},
          "execution_count": 110
        }
      ],
      "source": [
        "digit[:, None].shape"
      ]
    },
    {
      "cell_type": "code",
      "execution_count": 111,
      "metadata": {
        "tags": [],
        "colab": {
          "base_uri": "https://localhost:8080/"
        },
        "id": "cK9lwCeSGy8U",
        "outputId": "9daf13dc-ecd7-4dd5-a573-22bc4d27c8f6"
      },
      "outputs": [
        {
          "output_type": "execute_result",
          "data": {
            "text/plain": [
              "torch.Size([784, 10])"
            ]
          },
          "metadata": {},
          "execution_count": 111
        }
      ],
      "source": [
        "digit[:, None].expand_as(m2).shape"
      ]
    },
    {
      "cell_type": "code",
      "execution_count": 112,
      "metadata": {
        "tags": [],
        "colab": {
          "base_uri": "https://localhost:8080/"
        },
        "id": "YyeRrIFvGy8U",
        "outputId": "c23a49b2-7c77-499c-d58e-6d96d64e4b82"
      },
      "outputs": [
        {
          "output_type": "execute_result",
          "data": {
            "text/plain": [
              "torch.Size([784, 10])"
            ]
          },
          "metadata": {},
          "execution_count": 112
        }
      ],
      "source": [
        "(digit[:, None] * m2).shape"
      ]
    },
    {
      "cell_type": "code",
      "execution_count": 113,
      "metadata": {
        "tags": [],
        "colab": {
          "base_uri": "https://localhost:8080/"
        },
        "id": "nCmJ8zdnGy8U",
        "outputId": "9ab3be75-d819-4e4b-c00b-bc6afcf1c7a4"
      },
      "outputs": [
        {
          "output_type": "execute_result",
          "data": {
            "text/plain": [
              "torch.Size([784, 1])"
            ]
          },
          "metadata": {},
          "execution_count": 113
        }
      ],
      "source": [
        "m1[0][..., None].shape"
      ]
    },
    {
      "cell_type": "code",
      "execution_count": 114,
      "metadata": {
        "tags": [],
        "id": "YzV2tDSsGy8U"
      },
      "outputs": [],
      "source": [
        "def matmul(a, b):\n",
        "    (ar, ac), (br, bc) = a.shape, b.shape\n",
        "    c = torch.zeros(ar, bc)\n",
        "    for i in range(ar):\n",
        "        #       c[i,j] = (a[i,:] * b[:,j]).sum()      # previous version\n",
        "        c[i] = (a[i][..., None] * b).sum(dim=0)  # broadcast version\n",
        "    return c"
      ]
    },
    {
      "cell_type": "code",
      "execution_count": 115,
      "metadata": {
        "tags": [],
        "id": "ZdfWaC-ZGy8V"
      },
      "outputs": [],
      "source": [
        "test_close(t1, matmul(m1, m2))"
      ]
    },
    {
      "cell_type": "code",
      "execution_count": 116,
      "metadata": {
        "tags": [],
        "colab": {
          "base_uri": "https://localhost:8080/"
        },
        "id": "fKEJbrFlGy8V",
        "outputId": "568716db-e3dc-49a9-ccf3-61444953b84f"
      },
      "outputs": [
        {
          "output_type": "stream",
          "name": "stdout",
          "text": [
            "191 µs ± 66.3 µs per loop (mean ± std. dev. of 7 runs, 50 loops each)\n"
          ]
        }
      ],
      "source": [
        "%timeit -n 50 _=matmul(m1, m2)"
      ]
    },
    {
      "cell_type": "markdown",
      "metadata": {
        "id": "zsLeOetiGy8V"
      },
      "source": [
        "Our time has gone from ~500ms to <0.1ms, an over 5000x improvement! We can run on the whole dataset now."
      ]
    },
    {
      "cell_type": "code",
      "execution_count": 117,
      "metadata": {
        "tags": [],
        "colab": {
          "base_uri": "https://localhost:8080/"
        },
        "id": "i2pumP5SGy8V",
        "outputId": "1947c832-b0a7-4564-c4b5-27affe62bc6d"
      },
      "outputs": [
        {
          "output_type": "execute_result",
          "data": {
            "text/plain": [
              "tensor([[  0.96,  -2.96,  -2.11,  ..., -15.09, -17.69,   0.60],\n",
              "        [  6.89,  -0.34,   0.79,  ..., -17.13, -25.36,  16.23],\n",
              "        [-10.18,   7.38,   4.13,  ...,  -6.73,  -6.79,  -1.58],\n",
              "        ...,\n",
              "        [  7.40,   7.64,  -3.50,  ...,  -1.02, -16.22,   2.07],\n",
              "        [  3.25,   9.52,  -9.37,  ...,   2.98, -19.58,  -1.96],\n",
              "        [ 15.70,   4.12,  -5.62,  ...,   8.08, -12.21,   0.42]])"
            ]
          },
          "metadata": {},
          "execution_count": 117
        }
      ],
      "source": [
        "tr = matmul(x_train, weights)\n",
        "tr"
      ]
    },
    {
      "cell_type": "code",
      "execution_count": 118,
      "metadata": {
        "tags": [],
        "colab": {
          "base_uri": "https://localhost:8080/"
        },
        "id": "6BrQ1IetGy8V",
        "outputId": "92717c0f-4040-43ce-c4ac-3a30cd517b30"
      },
      "outputs": [
        {
          "output_type": "execute_result",
          "data": {
            "text/plain": [
              "torch.Size([50000, 10])"
            ]
          },
          "metadata": {},
          "execution_count": 118
        }
      ],
      "source": [
        "tr.shape"
      ]
    },
    {
      "cell_type": "code",
      "execution_count": 119,
      "metadata": {
        "tags": [],
        "colab": {
          "base_uri": "https://localhost:8080/"
        },
        "id": "mb-GlbtgGy8V",
        "outputId": "6cc303e3-6c9c-492d-9a8a-f605f8776c9e"
      },
      "outputs": [
        {
          "output_type": "stream",
          "name": "stdout",
          "text": [
            "CPU times: user 2.27 s, sys: 9.58 ms, total: 2.28 s\n",
            "Wall time: 2.33 s\n"
          ]
        }
      ],
      "source": [
        "%time _=matmul(x_train, weights)"
      ]
    },
    {
      "cell_type": "markdown",
      "metadata": {
        "tags": [],
        "id": "TR60uXVbGy8W"
      },
      "source": [
        "## Einstein summation"
      ]
    },
    {
      "cell_type": "markdown",
      "metadata": {
        "id": "Xfwu3m6pGy8W"
      },
      "source": [
        "[Einstein summation](https://ajcr.net/Basic-guide-to-einsum/) ([`einsum`](https://numpy.org/doc/stable/reference/generated/numpy.einsum.html)) is a compact representation for combining products and sums in a general way. The key rules are:\n",
        "\n",
        "- Repeating letters between input arrays means that values along those axes will be multiplied together.\n",
        "- Omitting a letter from the output means that values along that axis will be summed."
      ]
    },
    {
      "cell_type": "code",
      "execution_count": 120,
      "metadata": {
        "tags": [],
        "colab": {
          "base_uri": "https://localhost:8080/"
        },
        "id": "hM6JPHY9Gy8W",
        "outputId": "93f763f1-e61b-4fff-d13f-41d6af006221"
      },
      "outputs": [
        {
          "output_type": "execute_result",
          "data": {
            "text/plain": [
              "(torch.Size([5, 784]), torch.Size([784, 10]))"
            ]
          },
          "metadata": {},
          "execution_count": 120
        }
      ],
      "source": [
        "m1.shape, m2.shape"
      ]
    },
    {
      "cell_type": "code",
      "execution_count": 121,
      "metadata": {
        "tags": [],
        "colab": {
          "base_uri": "https://localhost:8080/"
        },
        "id": "oJz2AvhZGy8X",
        "outputId": "b73ea32d-f7c3-4cb8-fa7b-3d8bd902548d"
      },
      "outputs": [
        {
          "output_type": "execute_result",
          "data": {
            "text/plain": [
              "torch.Size([5, 784, 10])"
            ]
          },
          "metadata": {},
          "execution_count": 121
        }
      ],
      "source": [
        "# c[i,j] += a[i,k] * b[k,j]\n",
        "# c[i,j] = (a[i,:] * b[:,j]).sum()\n",
        "mr = torch.einsum(\"ik,kj->ikj\", m1, m2)\n",
        "mr.shape"
      ]
    },
    {
      "cell_type": "code",
      "execution_count": 122,
      "metadata": {
        "tags": [],
        "colab": {
          "base_uri": "https://localhost:8080/"
        },
        "id": "jiBgVmNxGy8X",
        "outputId": "b8799aac-e55d-46b0-da36-df79bb35123f"
      },
      "outputs": [
        {
          "output_type": "execute_result",
          "data": {
            "text/plain": [
              "tensor([[-10.94,  -0.68,  -7.00,  -4.01,  -2.09,  -3.36,   3.91,  -3.44, -11.47,  -2.12],\n",
              "        [ 14.54,   6.00,   2.89,  -4.08,   6.59, -14.74,  -9.28,   2.16, -15.28,  -2.68],\n",
              "        [  2.22,  -3.22,  -4.80,  -6.05,  14.17,  -8.98,  -4.79,  -5.44, -20.68,  13.57],\n",
              "        [ -6.71,   8.90,  -7.46,  -7.90,   2.70,  -4.73, -11.03, -12.98,  -6.44,   3.64],\n",
              "        [ -2.44,  -6.40,  -2.40,  -9.04,  11.18,  -5.77,  -8.92,  -3.79,  -8.98,   5.28]])"
            ]
          },
          "metadata": {},
          "execution_count": 122
        }
      ],
      "source": [
        "mr.sum(1)"
      ]
    },
    {
      "cell_type": "code",
      "execution_count": 123,
      "metadata": {
        "tags": [],
        "colab": {
          "base_uri": "https://localhost:8080/"
        },
        "id": "6KI7Kd7YGy8X",
        "outputId": "29a468c1-ff82-43c8-821d-217e6fa836ea"
      },
      "outputs": [
        {
          "output_type": "execute_result",
          "data": {
            "text/plain": [
              "tensor([[-10.94,  -0.68,  -7.00,  -4.01,  -2.09,  -3.36,   3.91,  -3.44, -11.47,  -2.12],\n",
              "        [ 14.54,   6.00,   2.89,  -4.08,   6.59, -14.74,  -9.28,   2.16, -15.28,  -2.68],\n",
              "        [  2.22,  -3.22,  -4.80,  -6.05,  14.17,  -8.98,  -4.79,  -5.44, -20.68,  13.57],\n",
              "        [ -6.71,   8.90,  -7.46,  -7.90,   2.70,  -4.73, -11.03, -12.98,  -6.44,   3.64],\n",
              "        [ -2.44,  -6.40,  -2.40,  -9.04,  11.18,  -5.77,  -8.92,  -3.79,  -8.98,   5.28]])"
            ]
          },
          "metadata": {},
          "execution_count": 123
        }
      ],
      "source": [
        "torch.einsum(\"ik,kj->ij\", m1, m2)"
      ]
    },
    {
      "cell_type": "code",
      "execution_count": 124,
      "metadata": {
        "tags": [],
        "id": "L_TXSb0gGy8X"
      },
      "outputs": [],
      "source": [
        "def matmul(a, b):\n",
        "    return torch.einsum(\"ik,kj->ij\", a, b)"
      ]
    },
    {
      "cell_type": "code",
      "execution_count": 125,
      "metadata": {
        "tags": [],
        "id": "N2Ze2JNNGy8X"
      },
      "outputs": [],
      "source": [
        "test_close(tr, matmul(x_train, weights), eps=1e-3)"
      ]
    },
    {
      "cell_type": "code",
      "execution_count": 126,
      "metadata": {
        "tags": [],
        "colab": {
          "base_uri": "https://localhost:8080/"
        },
        "id": "Pi0_f-ZRGy8X",
        "outputId": "67a1b334-4595-4bf5-f12d-316212671005"
      },
      "outputs": [
        {
          "output_type": "stream",
          "name": "stdout",
          "text": [
            "30.5 ms ± 1.16 ms per loop (mean ± std. dev. of 7 runs, 5 loops each)\n"
          ]
        }
      ],
      "source": [
        "%timeit -n 5 _=matmul(x_train, weights)"
      ]
    },
    {
      "cell_type": "markdown",
      "metadata": {
        "tags": [],
        "id": "u5oqa0aVGy8X"
      },
      "source": [
        "## pytorch op"
      ]
    },
    {
      "cell_type": "markdown",
      "metadata": {
        "id": "5kLYSMikGy8Y"
      },
      "source": [
        "We can use pytorch's function or operator directly for matrix multiplication."
      ]
    },
    {
      "cell_type": "code",
      "execution_count": 127,
      "metadata": {
        "tags": [],
        "id": "FuFN9uy4Gy8Y"
      },
      "outputs": [],
      "source": [
        "test_close(tr, x_train @ weights, eps=1e-3)"
      ]
    },
    {
      "cell_type": "code",
      "execution_count": 128,
      "metadata": {
        "tags": [],
        "colab": {
          "base_uri": "https://localhost:8080/"
        },
        "id": "Td1okbFkGy8Y",
        "outputId": "f8a454e4-8b2f-48cf-e762-19979b71c603"
      },
      "outputs": [
        {
          "output_type": "stream",
          "name": "stdout",
          "text": [
            "30.9 ms ± 1.32 ms per loop (mean ± std. dev. of 7 runs, 5 loops each)\n"
          ]
        }
      ],
      "source": [
        "%timeit -n 5 _=torch.matmul(x_train, weights)"
      ]
    },
    {
      "cell_type": "markdown",
      "metadata": {
        "tags": [],
        "id": "LRfWN6YkGy8Y"
      },
      "source": [
        "## CUDA"
      ]
    },
    {
      "cell_type": "code",
      "execution_count": 129,
      "metadata": {
        "id": "YkqOeUejGy8Y"
      },
      "outputs": [],
      "source": [
        "def matmul(grid, a,b,c):\n",
        "    i,j = grid\n",
        "    if i < c.shape[0] and j < c.shape[1]:\n",
        "        tmp = 0.\n",
        "        for k in range(a.shape[1]): tmp += a[i, k] * b[k, j]\n",
        "        c[i,j] = tmp"
      ]
    },
    {
      "cell_type": "code",
      "execution_count": 130,
      "metadata": {
        "colab": {
          "base_uri": "https://localhost:8080/"
        },
        "id": "jkz2QFTCGy8Y",
        "outputId": "2ba3a75e-f644-4341-b7a5-8e1112b4da1f"
      },
      "outputs": [
        {
          "output_type": "execute_result",
          "data": {
            "text/plain": [
              "tensor([[-10.94,   0.00,   0.00,   0.00,   0.00,   0.00,   0.00,   0.00,   0.00,   0.00],\n",
              "        [  0.00,   0.00,   0.00,   0.00,   0.00,   0.00,   0.00,   0.00,   0.00,   0.00],\n",
              "        [  0.00,   0.00,   0.00,   0.00,   0.00,   0.00,   0.00,   0.00,   0.00,   0.00],\n",
              "        [  0.00,   0.00,   0.00,   0.00,   0.00,   0.00,   0.00,   0.00,   0.00,   0.00],\n",
              "        [  0.00,   0.00,   0.00,   0.00,   0.00,   0.00,   0.00,   0.00,   0.00,   0.00]])"
            ]
          },
          "metadata": {},
          "execution_count": 130
        }
      ],
      "source": [
        "res = torch.zeros(ar, bc)\n",
        "matmul((0,0), m1, m2, res)\n",
        "res"
      ]
    },
    {
      "cell_type": "code",
      "execution_count": 131,
      "metadata": {
        "id": "qfJEEsjDGy8Y"
      },
      "outputs": [],
      "source": [
        "def launch_kernel(kernel, grid_x, grid_y, *args, **kwargs):\n",
        "    for i in range(grid_x):\n",
        "        for j in range(grid_y): kernel((i,j), *args, **kwargs)"
      ]
    },
    {
      "cell_type": "code",
      "execution_count": 132,
      "metadata": {
        "colab": {
          "base_uri": "https://localhost:8080/"
        },
        "id": "vFWVL42fGy8Z",
        "outputId": "3a7f6b0c-a5bf-40a1-b76a-02cc50481411"
      },
      "outputs": [
        {
          "output_type": "execute_result",
          "data": {
            "text/plain": [
              "tensor([[-10.94,  -0.68,  -7.00,  -4.01,  -2.09,  -3.36,   3.91,  -3.44, -11.47,  -2.12],\n",
              "        [ 14.54,   6.00,   2.89,  -4.08,   6.59, -14.74,  -9.28,   2.16, -15.28,  -2.68],\n",
              "        [  2.22,  -3.22,  -4.80,  -6.05,  14.17,  -8.98,  -4.79,  -5.44, -20.68,  13.57],\n",
              "        [ -6.71,   8.90,  -7.46,  -7.90,   2.70,  -4.73, -11.03, -12.98,  -6.44,   3.64],\n",
              "        [ -2.44,  -6.40,  -2.40,  -9.04,  11.18,  -5.77,  -8.92,  -3.79,  -8.98,   5.28]])"
            ]
          },
          "metadata": {},
          "execution_count": 132
        }
      ],
      "source": [
        "res = torch.zeros(ar, bc)\n",
        "launch_kernel(matmul, ar, bc, m1, m2, res)\n",
        "res"
      ]
    },
    {
      "cell_type": "code",
      "execution_count": 133,
      "metadata": {
        "id": "LCu1q6NSGy8Z"
      },
      "outputs": [],
      "source": [
        "def matmul(grid, a,b,c):\n",
        "    i,j = grid\n",
        "    if i < c.shape[0] and j < c.shape[1]:\n",
        "        tmp = 0.\n",
        "        for k in range(a.shape[1]): tmp += a[i, k] * b[k, j]\n",
        "        c[i,j] = tmp"
      ]
    },
    {
      "cell_type": "code",
      "execution_count": 136,
      "metadata": {
        "id": "_Y8MHyiEGy8Z"
      },
      "outputs": [],
      "source": [
        "@cuda.jit\n",
        "def matmul(a,b,c):\n",
        "    i, j = cuda.grid(2)\n",
        "    if i < c.shape[0] and j < c.shape[1]:\n",
        "        tmp = 0.\n",
        "        for k in range(a.shape[1]): tmp += a[i, k] * b[k, j]\n",
        "        c[i,j] = tmp"
      ]
    },
    {
      "cell_type": "code",
      "execution_count": 137,
      "metadata": {
        "id": "TPm-BuIQGy8Z"
      },
      "outputs": [],
      "source": [
        "r = np.zeros(tr.shape)\n",
        "m1g,m2g,rg = map(cuda.to_device, (x_train,weights,r))"
      ]
    },
    {
      "cell_type": "code",
      "execution_count": 138,
      "metadata": {
        "colab": {
          "base_uri": "https://localhost:8080/"
        },
        "id": "bTAGL8zvGy8Z",
        "outputId": "9c3e6128-0766-4905-87fe-0713571a3eab"
      },
      "outputs": [
        {
          "output_type": "execute_result",
          "data": {
            "text/plain": [
              "(50000, 10)"
            ]
          },
          "metadata": {},
          "execution_count": 138
        }
      ],
      "source": [
        "r.shape"
      ]
    },
    {
      "cell_type": "code",
      "execution_count": 139,
      "metadata": {
        "colab": {
          "base_uri": "https://localhost:8080/"
        },
        "id": "E12eHGcBGy8Z",
        "outputId": "f296c7d5-5c9a-442d-b698-c6b6019c31b6"
      },
      "outputs": [
        {
          "output_type": "execute_result",
          "data": {
            "text/plain": [
              "(3125, 1)"
            ]
          },
          "metadata": {},
          "execution_count": 139
        }
      ],
      "source": [
        "TPB = 16\n",
        "rr,rc = r.shape\n",
        "blockspergrid = (math.ceil(rr / TPB), math.ceil(rc / TPB))\n",
        "blockspergrid"
      ]
    },
    {
      "cell_type": "code",
      "execution_count": 140,
      "metadata": {
        "id": "1Lg46pzzGy8a"
      },
      "outputs": [],
      "source": [
        "matmul[blockspergrid, (TPB,TPB)](m1g,m2g,rg)\n",
        "r = rg.copy_to_host()\n",
        "test_close(tr, r, eps=1e-3)"
      ]
    },
    {
      "cell_type": "code",
      "execution_count": 141,
      "metadata": {
        "colab": {
          "base_uri": "https://localhost:8080/"
        },
        "id": "hqSRPW2bGy8a",
        "outputId": "b635d38b-4ff1-4ba2-f36a-cae50f942f0b"
      },
      "outputs": [
        {
          "output_type": "stream",
          "name": "stdout",
          "text": [
            "10.9 ms ± 3.78 ms per loop (mean ± std. dev. of 7 runs, 10 loops each)\n"
          ]
        }
      ],
      "source": [
        "%%timeit -n 10\n",
        "matmul[blockspergrid, (TPB,TPB)](m1g,m2g,rg)\n",
        "r = rg.copy_to_host()"
      ]
    },
    {
      "cell_type": "code",
      "execution_count": 142,
      "metadata": {
        "id": "hOjBolFDGy8a"
      },
      "outputs": [],
      "source": [
        "m1c,m2c = x_train.cuda(),weights.cuda()"
      ]
    },
    {
      "cell_type": "code",
      "execution_count": 143,
      "metadata": {
        "id": "1xQ4pCCFGy8a"
      },
      "outputs": [],
      "source": [
        "r=(m1c@m2c).cpu()"
      ]
    },
    {
      "cell_type": "code",
      "execution_count": 144,
      "metadata": {
        "colab": {
          "base_uri": "https://localhost:8080/"
        },
        "id": "RMLQTZNBGy8a",
        "outputId": "7a9dfbae-5322-41c5-dc48-761e0370b853"
      },
      "outputs": [
        {
          "output_type": "stream",
          "name": "stdout",
          "text": [
            "2.21 ms ± 314 µs per loop (mean ± std. dev. of 7 runs, 10 loops each)\n"
          ]
        }
      ],
      "source": [
        "%timeit -n 10 r=(m1c@m2c).cpu()"
      ]
    },
    {
      "cell_type": "markdown",
      "metadata": {
        "id": "6v31Cm_yGy8a"
      },
      "source": [
        "Our broadcasting version was >500ms, and our CUDA version is around 0.5ms, which is another 1000x improvement compared to broadcasting. So our total speedup is around 5 million times!"
      ]
    }
  ],
  "metadata": {
    "kernelspec": {
      "display_name": "Python 3 (ipykernel)",
      "language": "python",
      "name": "python3"
    },
    "language_info": {
      "codemirror_mode": {
        "name": "ipython",
        "version": 3
      },
      "file_extension": ".py",
      "mimetype": "text/x-python",
      "name": "python",
      "nbconvert_exporter": "python",
      "pygments_lexer": "ipython3",
      "version": "3.11.3"
    },
    "colab": {
      "provenance": []
    },
    "accelerator": "GPU",
    "gpuClass": "standard"
  },
  "nbformat": 4,
  "nbformat_minor": 0
}