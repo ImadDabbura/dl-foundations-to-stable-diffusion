{
 "cells": [
  {
   "cell_type": "code",
   "execution_count": 1,
   "id": "da7e553f",
   "metadata": {
    "tags": []
   },
   "outputs": [],
   "source": [
    "#| default_exp datasets"
   ]
  },
  {
   "cell_type": "code",
   "execution_count": 2,
   "id": "44f59f43-e5ba-427f-8ff6-0a54e437d532",
   "metadata": {
    "tags": []
   },
   "outputs": [],
   "source": [
    "%load_ext lab_black"
   ]
  },
  {
   "cell_type": "code",
   "execution_count": 3,
   "id": "3a5b2d33",
   "metadata": {
    "tags": []
   },
   "outputs": [],
   "source": [
    "# |export\n",
    "from __future__ import annotations\n",
    "import math, numpy as np, matplotlib.pyplot as plt\n",
    "from operator import itemgetter\n",
    "from itertools import zip_longest\n",
    "import fastcore.all as fc\n",
    "\n",
    "from torch.utils.data import default_collate\n",
    "from nbdev.showdoc import show_doc\n",
    "\n",
    "# from miniai.training import *"
   ]
  },
  {
   "cell_type": "code",
   "execution_count": 44,
   "id": "579a712f",
   "metadata": {
    "tags": []
   },
   "outputs": [],
   "source": [
    "import logging, pickle, gzip, os, time, shutil, torch, matplotlib as mpl\n",
    "from pathlib import Path\n",
    "\n",
    "from torch import tensor, nn, optim\n",
    "from torch.utils.data import DataLoader, Dataset\n",
    "import torch.nn.functional as F\n",
    "from datasets import load_dataset, load_dataset_builder\n",
    "\n",
    "import torchvision.transforms.functional as TF\n",
    "from fastcore.test import test_close"
   ]
  },
  {
   "cell_type": "code",
   "execution_count": 5,
   "id": "45dc4dc7",
   "metadata": {
    "tags": []
   },
   "outputs": [],
   "source": [
    "torch.set_printoptions(precision=2, linewidth=140, sci_mode=False)\n",
    "torch.manual_seed(1)\n",
    "mpl.rcParams[\"image.cmap\"] = \"gray\""
   ]
  },
  {
   "cell_type": "code",
   "execution_count": 6,
   "id": "84a947f2",
   "metadata": {
    "tags": []
   },
   "outputs": [],
   "source": [
    "logging.disable(logging.WARNING)"
   ]
  },
  {
   "cell_type": "markdown",
   "id": "d47ef9d3",
   "metadata": {},
   "source": [
    "## Hugging Face Datasets"
   ]
  },
  {
   "cell_type": "code",
   "execution_count": 7,
   "id": "95ce04f5",
   "metadata": {
    "tags": []
   },
   "outputs": [
    {
     "name": "stdout",
     "output_type": "stream",
     "text": [
      "Fashion-MNIST is a dataset of Zalando's article images—consisting of a training set of\n",
      "60,000 examples and a test set of 10,000 examples. Each example is a 28x28 grayscale image,\n",
      "associated with a label from 10 classes. We intend Fashion-MNIST to serve as a direct drop-in\n",
      "replacement for the original MNIST dataset for benchmarking machine learning algorithms.\n",
      "It shares the same image size and structure of training and testing splits.\n",
      "\n"
     ]
    }
   ],
   "source": [
    "name = \"fashion_mnist\"\n",
    "ds_builder = load_dataset_builder(name)\n",
    "print(ds_builder.info.description)"
   ]
  },
  {
   "cell_type": "code",
   "execution_count": 8,
   "id": "7b8e6589",
   "metadata": {
    "tags": []
   },
   "outputs": [
    {
     "data": {
      "text/plain": [
       "['BUILDER_CONFIGS',\n",
       " 'BUILDER_CONFIG_CLASS',\n",
       " 'DEFAULT_CONFIG_NAME',\n",
       " 'DEFAULT_WRITER_BATCH_SIZE',\n",
       " 'VERSION',\n",
       " 'as_dataset',\n",
       " 'as_streaming_dataset',\n",
       " 'base_path',\n",
       " 'builder_configs',\n",
       " 'cache_dir',\n",
       " 'config',\n",
       " 'config_id',\n",
       " 'dl_manager',\n",
       " 'download_and_prepare',\n",
       " 'download_post_processing_resources',\n",
       " 'get_all_exported_dataset_infos',\n",
       " 'get_exported_dataset_info',\n",
       " 'get_imported_module_dir',\n",
       " 'hash',\n",
       " 'info',\n",
       " 'manual_download_instructions',\n",
       " 'name',\n",
       " 'repo_id',\n",
       " 'storage_options',\n",
       " 'use_auth_token']"
      ]
     },
     "execution_count": 8,
     "metadata": {},
     "output_type": "execute_result"
    }
   ],
   "source": [
    "[attr for attr in dir(ds_builder) if not attr.startswith(\"_\")]"
   ]
  },
  {
   "cell_type": "code",
   "execution_count": 9,
   "id": "4f809ce8-30aa-446d-adb1-6cd3b09eebe2",
   "metadata": {
    "tags": []
   },
   "outputs": [
    {
     "data": {
      "text/plain": [
       "['builder_name',\n",
       " 'citation',\n",
       " 'config_name',\n",
       " 'copy',\n",
       " 'dataset_size',\n",
       " 'description',\n",
       " 'download_checksums',\n",
       " 'download_size',\n",
       " 'features',\n",
       " 'from_dict',\n",
       " 'from_directory',\n",
       " 'from_merge',\n",
       " 'homepage',\n",
       " 'license',\n",
       " 'post_processed',\n",
       " 'post_processing_size',\n",
       " 'size_in_bytes',\n",
       " 'splits',\n",
       " 'supervised_keys',\n",
       " 'task_templates',\n",
       " 'update',\n",
       " 'version',\n",
       " 'write_to_directory']"
      ]
     },
     "execution_count": 9,
     "metadata": {},
     "output_type": "execute_result"
    }
   ],
   "source": [
    "[attr for attr in dir(ds_builder.info) if not attr.startswith(\"_\")]"
   ]
  },
  {
   "cell_type": "code",
   "execution_count": 10,
   "id": "2aecd460-9389-4554-aeee-6a1a5cb261e6",
   "metadata": {
    "tags": []
   },
   "outputs": [
    {
     "data": {
      "text/plain": [
       "{'image': Image(decode=True, id=None),\n",
       " 'label': ClassLabel(names=['T - shirt / top', 'Trouser', 'Pullover', 'Dress', 'Coat', 'Sandal', 'Shirt', 'Sneaker', 'Bag', 'Ankle boot'], id=None)}"
      ]
     },
     "execution_count": 10,
     "metadata": {},
     "output_type": "execute_result"
    }
   ],
   "source": [
    "ds_builder.info.features"
   ]
  },
  {
   "cell_type": "code",
   "execution_count": 11,
   "id": "1671912b",
   "metadata": {
    "tags": []
   },
   "outputs": [
    {
     "data": {
      "text/plain": [
       "{'train': SplitInfo(name='train', num_bytes=31296607, num_examples=60000, shard_lengths=None, dataset_name='fashion_mnist'),\n",
       " 'test': SplitInfo(name='test', num_bytes=5233810, num_examples=10000, shard_lengths=None, dataset_name='fashion_mnist')}"
      ]
     },
     "execution_count": 11,
     "metadata": {},
     "output_type": "execute_result"
    }
   ],
   "source": [
    "ds_builder.info.splits"
   ]
  },
  {
   "cell_type": "code",
   "execution_count": 12,
   "id": "eacdc83c",
   "metadata": {
    "tags": []
   },
   "outputs": [
    {
     "name": "stderr",
     "output_type": "stream",
     "text": [
      "100%|███████████████████████████████████████████████████████████████████████████████████████████| 2/2 [00:00<00:00, 69.46it/s]\n"
     ]
    },
    {
     "data": {
      "text/plain": [
       "DatasetDict({\n",
       "    train: Dataset({\n",
       "        features: ['image', 'label'],\n",
       "        num_rows: 60000\n",
       "    })\n",
       "    test: Dataset({\n",
       "        features: ['image', 'label'],\n",
       "        num_rows: 10000\n",
       "    })\n",
       "})"
      ]
     },
     "execution_count": 12,
     "metadata": {},
     "output_type": "execute_result"
    }
   ],
   "source": [
    "dsd = load_dataset(name)\n",
    "dsd"
   ]
  },
  {
   "cell_type": "code",
   "execution_count": 13,
   "id": "6ef15b80",
   "metadata": {
    "tags": []
   },
   "outputs": [
    {
     "data": {
      "text/plain": [
       "{'image': <PIL.PngImagePlugin.PngImageFile image mode=L size=28x28>,\n",
       " 'label': 9}"
      ]
     },
     "execution_count": 13,
     "metadata": {},
     "output_type": "execute_result"
    }
   ],
   "source": [
    "train, test = dsd[\"train\"], dsd[\"test\"]\n",
    "train[0]"
   ]
  },
  {
   "cell_type": "code",
   "execution_count": 14,
   "id": "bebfe2a9",
   "metadata": {
    "tags": []
   },
   "outputs": [],
   "source": [
    "x, y = ds_builder.info.features"
   ]
  },
  {
   "cell_type": "code",
   "execution_count": 15,
   "id": "2ef65b83",
   "metadata": {
    "tags": []
   },
   "outputs": [
    {
     "data": {
      "text/plain": [
       "('image', 'label')"
      ]
     },
     "execution_count": 15,
     "metadata": {},
     "output_type": "execute_result"
    }
   ],
   "source": [
    "x, y"
   ]
  },
  {
   "cell_type": "code",
   "execution_count": 16,
   "id": "4c7b6fcc",
   "metadata": {
    "tags": []
   },
   "outputs": [
    {
     "data": {
      "image/png": "[encoded data removed]",
      "text/plain": [
       "<PIL.PngImagePlugin.PngImageFile image mode=L size=28x28>"
      ]
     },
     "execution_count": 16,
     "metadata": {},
     "output_type": "execute_result"
    }
   ],
   "source": [
    "x, y = train.info.features\n",
    "img = train[0][x]\n",
    "img"
   ]
  },
  {
   "cell_type": "code",
   "execution_count": 17,
   "id": "284e563d-5f0b-4882-bf29-7282e3d625b3",
   "metadata": {
    "tags": []
   },
   "outputs": [
    {
     "data": {
      "text/plain": [
       "{'image': [<PIL.PngImagePlugin.PngImageFile image mode=L size=28x28>,\n",
       "  <PIL.PngImagePlugin.PngImageFile image mode=L size=28x28>,\n",
       "  <PIL.PngImagePlugin.PngImageFile image mode=L size=28x28>,\n",
       "  <PIL.PngImagePlugin.PngImageFile image mode=L size=28x28>,\n",
       "  <PIL.PngImagePlugin.PngImageFile image mode=L size=28x28>],\n",
       " 'label': [9, 0, 0, 3, 0]}"
      ]
     },
     "execution_count": 17,
     "metadata": {},
     "output_type": "execute_result"
    }
   ],
   "source": [
    "train[:5]"
   ]
  },
  {
   "cell_type": "code",
   "execution_count": 18,
   "id": "3db1778b",
   "metadata": {
    "tags": []
   },
   "outputs": [
    {
     "data": {
      "text/plain": [
       "[9, 0, 0, 3, 0]"
      ]
     },
     "execution_count": 18,
     "metadata": {},
     "output_type": "execute_result"
    }
   ],
   "source": [
    "xb = train[:5][x]\n",
    "yb = train[:5][y]\n",
    "yb"
   ]
  },
  {
   "cell_type": "code",
   "execution_count": 19,
   "id": "e54b5bcc",
   "metadata": {
    "tags": []
   },
   "outputs": [
    {
     "data": {
      "text/plain": [
       "ClassLabel(names=['T - shirt / top', 'Trouser', 'Pullover', 'Dress', 'Coat', 'Sandal', 'Shirt', 'Sneaker', 'Bag', 'Ankle boot'], id=None)"
      ]
     },
     "execution_count": 19,
     "metadata": {},
     "output_type": "execute_result"
    }
   ],
   "source": [
    "featy = train.features[y]\n",
    "featy"
   ]
  },
  {
   "cell_type": "code",
   "execution_count": 20,
   "id": "fcef590a",
   "metadata": {
    "tags": []
   },
   "outputs": [
    {
     "data": {
      "text/plain": [
       "['Ankle boot',\n",
       " 'T - shirt / top',\n",
       " 'T - shirt / top',\n",
       " 'Dress',\n",
       " 'T - shirt / top']"
      ]
     },
     "execution_count": 20,
     "metadata": {},
     "output_type": "execute_result"
    }
   ],
   "source": [
    "featy.int2str(yb)"
   ]
  },
  {
   "cell_type": "code",
   "execution_count": 21,
   "id": "953cac0f",
   "metadata": {
    "tags": []
   },
   "outputs": [
    {
     "data": {
      "text/plain": [
       "[9, 0, 0, 3, 0]"
      ]
     },
     "execution_count": 21,
     "metadata": {},
     "output_type": "execute_result"
    }
   ],
   "source": [
    "train[\"label\"][:5]"
   ]
  },
  {
   "cell_type": "code",
   "execution_count": 22,
   "id": "6b8790b8",
   "metadata": {
    "tags": []
   },
   "outputs": [],
   "source": [
    "def collate_fn(batch):\n",
    "    return {\n",
    "        x: torch.stack([TF.to_tensor(o[x]) for o in batch]),\n",
    "        y: tensor([o[y] for o in batch]),\n",
    "    }"
   ]
  },
  {
   "cell_type": "code",
   "execution_count": 23,
   "id": "36b7be22",
   "metadata": {
    "tags": []
   },
   "outputs": [
    {
     "data": {
      "text/plain": [
       "(torch.Size([16, 1, 28, 28]),\n",
       " tensor([9, 0, 0, 3, 0, 2, 7, 2, 5, 5, 0, 9, 5, 5, 7, 9]))"
      ]
     },
     "execution_count": 23,
     "metadata": {},
     "output_type": "execute_result"
    }
   ],
   "source": [
    "dl = DataLoader(train, collate_fn=collate_fn, batch_size=16)\n",
    "b = next(iter(dl))\n",
    "b[x].shape, b[y]"
   ]
  },
  {
   "cell_type": "markdown",
   "id": "de6c83ed-8ade-4a14-8518-1e7b86d57a2f",
   "metadata": {},
   "source": [
    "pytorch's `DataLoader` can take a dataset of type `dictionary` or any object as long as it implements `__getitem__` and `__len__` special methods. Therefore, HuggingFace datasets works perfectly with `DataLoaders` as long as we define a `collate` function to stack and convert data to tensors."
   ]
  },
  {
   "cell_type": "code",
   "execution_count": 24,
   "id": "45a6c6b4",
   "metadata": {
    "tags": []
   },
   "outputs": [],
   "source": [
    "# HF datasets allow us to define transforms that does the same things\n",
    "# as collate function and more. This will be applied to every item in the\n",
    "# bacth when we index into the dataset (on the fly)\n",
    "def transforms(b):\n",
    "    b[x] = [TF.to_tensor(o) for o in b[x]]\n",
    "    # We need the return here because HF expects the transforms\n",
    "    # to return the new version of the transformed data\n",
    "    return b"
   ]
  },
  {
   "cell_type": "code",
   "execution_count": 25,
   "id": "7ce1985b",
   "metadata": {
    "tags": []
   },
   "outputs": [
    {
     "data": {
      "text/plain": [
       "(dict,\n",
       " torch.Size([16, 1, 28, 28]),\n",
       " tensor([9, 0, 0, 3, 0, 2, 7, 2, 5, 5, 0, 9, 5, 5, 7, 9]))"
      ]
     },
     "execution_count": 25,
     "metadata": {},
     "output_type": "execute_result"
    }
   ],
   "source": [
    "tds = train.with_transform(transforms)\n",
    "# Pytorch already knows how to stack dictionaries of tensors\n",
    "# So we dont need to use collate function, but it will return\n",
    "# dictionary\n",
    "dl = DataLoader(tds, batch_size=16)\n",
    "b = next(iter(dl))\n",
    "type(b), b[x].shape, b[y]"
   ]
  },
  {
   "cell_type": "code",
   "execution_count": 26,
   "id": "1ad7ecde",
   "metadata": {
    "tags": []
   },
   "outputs": [],
   "source": [
    "def _transformi(b):\n",
    "    b[x] = [torch.flatten(TF.to_tensor(o)) for o in b[x]]"
   ]
  },
  {
   "cell_type": "code",
   "execution_count": 27,
   "id": "54cfb4a8",
   "metadata": {
    "tags": []
   },
   "outputs": [],
   "source": [
    "# |export\n",
    "def inplace(f):\n",
    "    def _f(b):\n",
    "        f(b)\n",
    "        return b\n",
    "\n",
    "    return _f"
   ]
  },
  {
   "cell_type": "code",
   "execution_count": 28,
   "id": "8ffe8f17",
   "metadata": {
    "tags": []
   },
   "outputs": [],
   "source": [
    "transformi = inplace(_transformi)"
   ]
  },
  {
   "cell_type": "code",
   "execution_count": 29,
   "id": "f8b1248f",
   "metadata": {
    "tags": []
   },
   "outputs": [
    {
     "data": {
      "text/plain": [
       "(torch.Size([784]), 9)"
      ]
     },
     "execution_count": 29,
     "metadata": {},
     "output_type": "execute_result"
    }
   ],
   "source": [
    "r = train.with_transform(transformi)[0]\n",
    "r[x].shape, r[y]"
   ]
  },
  {
   "cell_type": "code",
   "execution_count": 30,
   "id": "d6e8c480",
   "metadata": {
    "tags": []
   },
   "outputs": [],
   "source": [
    "@inplace\n",
    "def transformi(b):\n",
    "    b[x] = [torch.flatten(TF.to_tensor(o)) for o in b[x]]"
   ]
  },
  {
   "cell_type": "code",
   "execution_count": 31,
   "id": "07367168",
   "metadata": {
    "tags": []
   },
   "outputs": [
    {
     "data": {
      "text/plain": [
       "(torch.Size([784]), 9)"
      ]
     },
     "execution_count": 31,
     "metadata": {},
     "output_type": "execute_result"
    }
   ],
   "source": [
    "tdsf = train.with_transform(transformi)\n",
    "r = tdsf[0]\n",
    "r[x].shape, r[y]"
   ]
  },
  {
   "cell_type": "code",
   "execution_count": 32,
   "id": "6195d85f-a83b-4f84-97f1-1f73c868830f",
   "metadata": {
    "tags": []
   },
   "outputs": [
    {
     "data": {
      "text/plain": [
       "\u001b[0;31mInit signature:\u001b[0m \u001b[0mitemgetter\u001b[0m\u001b[0;34m(\u001b[0m\u001b[0mself\u001b[0m\u001b[0;34m,\u001b[0m \u001b[0;34m/\u001b[0m\u001b[0;34m,\u001b[0m \u001b[0;34m*\u001b[0m\u001b[0margs\u001b[0m\u001b[0;34m,\u001b[0m \u001b[0;34m**\u001b[0m\u001b[0mkwargs\u001b[0m\u001b[0;34m)\u001b[0m\u001b[0;34m\u001b[0m\u001b[0;34m\u001b[0m\u001b[0m\n",
       "\u001b[0;31mDocstring:\u001b[0m     \n",
       "itemgetter(item, ...) --> itemgetter object\n",
       "\n",
       "Return a callable object that fetches the given item(s) from its operand.\n",
       "After f = itemgetter(2), the call f(r) returns r[2].\n",
       "After g = itemgetter(2, 5, 3), the call g(r) returns (r[2], r[5], r[3])\n",
       "\u001b[0;31mFile:\u001b[0m           ~/mambaforge/envs/dl/lib/python3.11/operator.py\n",
       "\u001b[0;31mType:\u001b[0m           type\n",
       "\u001b[0;31mSubclasses:\u001b[0m     "
      ]
     },
     "metadata": {},
     "output_type": "display_data"
    }
   ],
   "source": [
    "itemgetter?"
   ]
  },
  {
   "cell_type": "code",
   "execution_count": 33,
   "id": "42cd1354",
   "metadata": {
    "tags": []
   },
   "outputs": [
    {
     "data": {
      "text/plain": [
       "(1, 3)"
      ]
     },
     "execution_count": 33,
     "metadata": {},
     "output_type": "execute_result"
    }
   ],
   "source": [
    "d = dict(a=1, b=2, c=3)\n",
    "ig = itemgetter(\"a\", \"c\")\n",
    "ig(d)"
   ]
  },
  {
   "cell_type": "code",
   "execution_count": 34,
   "id": "3c2e0bd6",
   "metadata": {
    "tags": []
   },
   "outputs": [],
   "source": [
    "class D:\n",
    "    def __getitem__(self, k):\n",
    "        return 1 if k == \"a\" else 2 if k == \"b\" else 3"
   ]
  },
  {
   "cell_type": "code",
   "execution_count": 35,
   "id": "105f8d6f",
   "metadata": {
    "tags": []
   },
   "outputs": [
    {
     "data": {
      "text/plain": [
       "(1, 3)"
      ]
     },
     "execution_count": 35,
     "metadata": {},
     "output_type": "execute_result"
    }
   ],
   "source": [
    "d = D()\n",
    "ig(d)"
   ]
  },
  {
   "cell_type": "code",
   "execution_count": 36,
   "id": "9dd178af",
   "metadata": {
    "tags": []
   },
   "outputs": [
    {
     "data": {
      "text/plain": [
       "['image', 'label']"
      ]
     },
     "execution_count": 36,
     "metadata": {},
     "output_type": "execute_result"
    }
   ],
   "source": [
    "list(tdsf.features)"
   ]
  },
  {
   "cell_type": "code",
   "execution_count": 37,
   "id": "838cbf23",
   "metadata": {
    "tags": []
   },
   "outputs": [
    {
     "data": {
      "text/plain": [
       "{'a': [tensor([1, 3])], 'b': [tensor([2, 4])]}"
      ]
     },
     "execution_count": 37,
     "metadata": {},
     "output_type": "execute_result"
    }
   ],
   "source": [
    "batch = dict(a=[1], b=[2]), dict(a=[3], b=[4])\n",
    "default_collate(batch)"
   ]
  },
  {
   "cell_type": "code",
   "execution_count": 40,
   "id": "61b1a25d-e8cd-41d8-8034-81540f82c01f",
   "metadata": {
    "tags": []
   },
   "outputs": [
    {
     "data": {
      "text/plain": [
       "datasets.dataset_dict.DatasetDict"
      ]
     },
     "execution_count": 40,
     "metadata": {},
     "output_type": "execute_result"
    }
   ],
   "source": [
    "type(dsd)"
   ]
  },
  {
   "cell_type": "code",
   "execution_count": 41,
   "id": "150eb14f",
   "metadata": {
    "tags": []
   },
   "outputs": [],
   "source": [
    "# |export\n",
    "def collate_dict(ds):\n",
    "    get = itemgetter(*ds.features)\n",
    "\n",
    "    def _f(batch):\n",
    "        # default_collate(batch) -> dictionary where values are stacked tensors\n",
    "        # get() would return the tuple of stacked tensors instead of dictionary\n",
    "        return get(default_collate(batch))\n",
    "\n",
    "    return _f"
   ]
  },
  {
   "cell_type": "code",
   "execution_count": 42,
   "id": "1714d771-ebb4-4d1f-9421-161a6ffbf555",
   "metadata": {
    "tags": []
   },
   "outputs": [
    {
     "data": {
      "text/plain": [
       "\u001b[0;31mSignature:\u001b[0m \u001b[0mdefault_collate\u001b[0m\u001b[0;34m(\u001b[0m\u001b[0mbatch\u001b[0m\u001b[0;34m)\u001b[0m\u001b[0;34m\u001b[0m\u001b[0;34m\u001b[0m\u001b[0m\n",
       "\u001b[0;31mDocstring:\u001b[0m\n",
       "Function that takes in a batch of data and puts the elements within the batch\n",
       "into a tensor with an additional outer dimension - batch size. The exact output type can be\n",
       "a :class:`torch.Tensor`, a `Sequence` of :class:`torch.Tensor`, a\n",
       "Collection of :class:`torch.Tensor`, or left unchanged, depending on the input type.\n",
       "This is used as the default function for collation when\n",
       "`batch_size` or `batch_sampler` is defined in :class:`~torch.utils.data.DataLoader`.\n",
       "\n",
       "Here is the general input type (based on the type of the element within the batch) to output type mapping:\n",
       "\n",
       "    * :class:`torch.Tensor` -> :class:`torch.Tensor` (with an added outer dimension batch size)\n",
       "    * NumPy Arrays -> :class:`torch.Tensor`\n",
       "    * `float` -> :class:`torch.Tensor`\n",
       "    * `int` -> :class:`torch.Tensor`\n",
       "    * `str` -> `str` (unchanged)\n",
       "    * `bytes` -> `bytes` (unchanged)\n",
       "    * `Mapping[K, V_i]` -> `Mapping[K, default_collate([V_1, V_2, ...])]`\n",
       "    * `NamedTuple[V1_i, V2_i, ...]` -> `NamedTuple[default_collate([V1_1, V1_2, ...]),\n",
       "      default_collate([V2_1, V2_2, ...]), ...]`\n",
       "    * `Sequence[V1_i, V2_i, ...]` -> `Sequence[default_collate([V1_1, V1_2, ...]),\n",
       "      default_collate([V2_1, V2_2, ...]), ...]`\n",
       "\n",
       "Args:\n",
       "    batch: a single batch to be collated\n",
       "\n",
       "Examples:\n",
       "    >>> # xdoctest: +SKIP\n",
       "    >>> # Example with a batch of `int`s:\n",
       "    >>> default_collate([0, 1, 2, 3])\n",
       "    tensor([0, 1, 2, 3])\n",
       "    >>> # Example with a batch of `str`s:\n",
       "    >>> default_collate(['a', 'b', 'c'])\n",
       "    ['a', 'b', 'c']\n",
       "    >>> # Example with `Map` inside the batch:\n",
       "    >>> default_collate([{'A': 0, 'B': 1}, {'A': 100, 'B': 100}])\n",
       "    {'A': tensor([  0, 100]), 'B': tensor([  1, 100])}\n",
       "    >>> # Example with `NamedTuple` inside the batch:\n",
       "    >>> Point = namedtuple('Point', ['x', 'y'])\n",
       "    >>> default_collate([Point(0, 0), Point(1, 1)])\n",
       "    Point(x=tensor([0, 1]), y=tensor([0, 1]))\n",
       "    >>> # Example with `Tuple` inside the batch:\n",
       "    >>> default_collate([(0, 1), (2, 3)])\n",
       "    [tensor([0, 2]), tensor([1, 3])]\n",
       "    >>> # Example with `List` inside the batch:\n",
       "    >>> default_collate([[0, 1], [2, 3]])\n",
       "    [tensor([0, 2]), tensor([1, 3])]\n",
       "    >>> # Two options to extend `default_collate` to handle specific type\n",
       "    >>> # Option 1: Write custom collate function and invoke `default_collate`\n",
       "    >>> def custom_collate(batch):\n",
       "    ...     elem = batch[0]\n",
       "    ...     if isinstance(elem, CustomType):  # Some custom condition\n",
       "    ...         return ...\n",
       "    ...     else:  # Fall back to `default_collate`\n",
       "    ...         return default_collate(batch)\n",
       "    >>> # Option 2: In-place modify `default_collate_fn_map`\n",
       "    >>> def collate_customtype_fn(batch, *, collate_fn_map=None):\n",
       "    ...     return ...\n",
       "    >>> default_collate_fn_map.update(CustoType, collate_customtype_fn)\n",
       "    >>> default_collate(batch)  # Handle `CustomType` automatically\n",
       "\u001b[0;31mFile:\u001b[0m      ~/mambaforge/envs/dl/lib/python3.11/site-packages/torch/utils/data/_utils/collate.py\n",
       "\u001b[0;31mType:\u001b[0m      function"
      ]
     },
     "metadata": {},
     "output_type": "display_data"
    }
   ],
   "source": [
    "default_collate?"
   ]
  },
  {
   "cell_type": "code",
   "execution_count": 45,
   "id": "b4d84422-32c7-4e1a-a40b-0f771b3dd37f",
   "metadata": {},
   "outputs": [],
   "source": [
    "class DS(Dataset):\n",
    "    def __init__(self, data):\n",
    "        self.data = data\n",
    "\n",
    "    def __len__(self):\n",
    "        return len(self.data)\n",
    "\n",
    "    def __getitem__(self, idx):\n",
    "        # return self.data[idx], self.data[idx]\n",
    "        return 0, 1"
   ]
  },
  {
   "cell_type": "code",
   "execution_count": 46,
   "id": "11e147f2-ce5f-4289-af82-e2f4cad8a361",
   "metadata": {
    "tags": []
   },
   "outputs": [
    {
     "data": {
      "text/plain": [
       "(0, 1)"
      ]
     },
     "execution_count": 46,
     "metadata": {},
     "output_type": "execute_result"
    }
   ],
   "source": [
    "a = np.arange(100)\n",
    "ds_a = DS(a)\n",
    "ds_a[0]"
   ]
  },
  {
   "cell_type": "code",
   "execution_count": 47,
   "id": "3571e0d7-6ccf-431a-b7c2-d2a3bedabd66",
   "metadata": {
    "tags": []
   },
   "outputs": [
    {
     "data": {
      "text/plain": [
       "[tensor([0, 0, 0, 0, 0]), tensor([1, 1, 1, 1, 1])]"
      ]
     },
     "execution_count": 47,
     "metadata": {},
     "output_type": "execute_result"
    }
   ],
   "source": [
    "next(iter(DataLoader(ds_a, 5)))"
   ]
  },
  {
   "cell_type": "code",
   "execution_count": 48,
   "id": "383173e9",
   "metadata": {
    "tags": []
   },
   "outputs": [
    {
     "data": {
      "text/plain": [
       "(torch.Size([4, 784]), torch.Size([4]))"
      ]
     },
     "execution_count": 48,
     "metadata": {},
     "output_type": "execute_result"
    }
   ],
   "source": [
    "dlf = DataLoader(tdsf, batch_size=4, collate_fn=collate_dict(tdsf))\n",
    "xb, yb = next(iter(dlf))\n",
    "xb.shape, yb.shape"
   ]
  },
  {
   "cell_type": "markdown",
   "id": "8f0277c6",
   "metadata": {},
   "source": [
    "## Plotting images"
   ]
  },
  {
   "cell_type": "code",
   "execution_count": 49,
   "id": "e9710424",
   "metadata": {
    "tags": []
   },
   "outputs": [
    {
     "data": {
      "text/plain": [
       "<matplotlib.image.AxesImage at 0x170923d90>"
      ]
     },
     "execution_count": 49,
     "metadata": {},
     "output_type": "execute_result"
    },
    {
     "data": {
      "image/png": "[encoded data removed]",
      "text/plain": [
       "<Figure size 640x480 with 1 Axes>"
      ]
     },
     "metadata": {},
     "output_type": "display_data"
    }
   ],
   "source": [
    "b = next(iter(dl))\n",
    "xb = b[\"image\"]\n",
    "img = xb[0]\n",
    "plt.imshow(img[0])"
   ]
  },
  {
   "cell_type": "code",
   "execution_count": 50,
   "id": "ef84d1b0",
   "metadata": {
    "tags": []
   },
   "outputs": [],
   "source": [
    "# |export\n",
    "# delegates take an argument and add the `kwargs` using the argument we used\n",
    "# In our case here, it uses all the arguments from plt.Axes.imshow\n",
    "@fc.delegates(plt.Axes.imshow)\n",
    "def show_image(im, ax=None, figsize=None, title=None, noframe=True, **kwargs):\n",
    "    \"Show a PIL or PyTorch image on `ax`.\"\n",
    "    if fc.hasattrs(im, (\"cpu\", \"permute\", \"detach\")):\n",
    "        im = im.detach().cpu()\n",
    "        if len(im.shape) == 3 and im.shape[0] < 5:\n",
    "            im = im.permute(1, 2, 0)\n",
    "    elif not isinstance(im, np.ndarray):\n",
    "        im = np.array(im)\n",
    "    if im.shape[-1] == 1:\n",
    "        im = im[..., 0]\n",
    "    if ax is None:\n",
    "        _, ax = plt.subplots(figsize=figsize)\n",
    "    ax.imshow(im, **kwargs)\n",
    "    if title is not None:\n",
    "        ax.set_title(title)\n",
    "    ax.set_xticks([])\n",
    "    ax.set_yticks([])\n",
    "    if noframe:\n",
    "        ax.axis(\"off\")\n",
    "    return ax"
   ]
  },
  {
   "cell_type": "code",
   "execution_count": 119,
   "id": "77221d36",
   "metadata": {
    "tags": []
   },
   "outputs": [
    {
     "data": {
      "text/plain": [
       "\u001b[0;31mSignature:\u001b[0m\n",
       "\u001b[0mshow_image\u001b[0m\u001b[0;34m(\u001b[0m\u001b[0;34m\u001b[0m\n",
       "\u001b[0;34m\u001b[0m    \u001b[0mim\u001b[0m\u001b[0;34m,\u001b[0m\u001b[0;34m\u001b[0m\n",
       "\u001b[0;34m\u001b[0m    \u001b[0max\u001b[0m\u001b[0;34m=\u001b[0m\u001b[0;32mNone\u001b[0m\u001b[0;34m,\u001b[0m\u001b[0;34m\u001b[0m\n",
       "\u001b[0;34m\u001b[0m    \u001b[0mfigsize\u001b[0m\u001b[0;34m=\u001b[0m\u001b[0;32mNone\u001b[0m\u001b[0;34m,\u001b[0m\u001b[0;34m\u001b[0m\n",
       "\u001b[0;34m\u001b[0m    \u001b[0mtitle\u001b[0m\u001b[0;34m=\u001b[0m\u001b[0;32mNone\u001b[0m\u001b[0;34m,\u001b[0m\u001b[0;34m\u001b[0m\n",
       "\u001b[0;34m\u001b[0m    \u001b[0mnoframe\u001b[0m\u001b[0;34m=\u001b[0m\u001b[0;32mTrue\u001b[0m\u001b[0;34m,\u001b[0m\u001b[0;34m\u001b[0m\n",
       "\u001b[0;34m\u001b[0m    \u001b[0;34m*\u001b[0m\u001b[0;34m,\u001b[0m\u001b[0;34m\u001b[0m\n",
       "\u001b[0;34m\u001b[0m    \u001b[0mcmap\u001b[0m\u001b[0;34m=\u001b[0m\u001b[0;32mNone\u001b[0m\u001b[0;34m,\u001b[0m\u001b[0;34m\u001b[0m\n",
       "\u001b[0;34m\u001b[0m    \u001b[0mnorm\u001b[0m\u001b[0;34m=\u001b[0m\u001b[0;32mNone\u001b[0m\u001b[0;34m,\u001b[0m\u001b[0;34m\u001b[0m\n",
       "\u001b[0;34m\u001b[0m    \u001b[0maspect\u001b[0m\u001b[0;34m=\u001b[0m\u001b[0;32mNone\u001b[0m\u001b[0;34m,\u001b[0m\u001b[0;34m\u001b[0m\n",
       "\u001b[0;34m\u001b[0m    \u001b[0minterpolation\u001b[0m\u001b[0;34m=\u001b[0m\u001b[0;32mNone\u001b[0m\u001b[0;34m,\u001b[0m\u001b[0;34m\u001b[0m\n",
       "\u001b[0;34m\u001b[0m    \u001b[0malpha\u001b[0m\u001b[0;34m=\u001b[0m\u001b[0;32mNone\u001b[0m\u001b[0;34m,\u001b[0m\u001b[0;34m\u001b[0m\n",
       "\u001b[0;34m\u001b[0m    \u001b[0mvmin\u001b[0m\u001b[0;34m=\u001b[0m\u001b[0;32mNone\u001b[0m\u001b[0;34m,\u001b[0m\u001b[0;34m\u001b[0m\n",
       "\u001b[0;34m\u001b[0m    \u001b[0mvmax\u001b[0m\u001b[0;34m=\u001b[0m\u001b[0;32mNone\u001b[0m\u001b[0;34m,\u001b[0m\u001b[0;34m\u001b[0m\n",
       "\u001b[0;34m\u001b[0m    \u001b[0morigin\u001b[0m\u001b[0;34m=\u001b[0m\u001b[0;32mNone\u001b[0m\u001b[0;34m,\u001b[0m\u001b[0;34m\u001b[0m\n",
       "\u001b[0;34m\u001b[0m    \u001b[0mextent\u001b[0m\u001b[0;34m=\u001b[0m\u001b[0;32mNone\u001b[0m\u001b[0;34m,\u001b[0m\u001b[0;34m\u001b[0m\n",
       "\u001b[0;34m\u001b[0m    \u001b[0minterpolation_stage\u001b[0m\u001b[0;34m=\u001b[0m\u001b[0;32mNone\u001b[0m\u001b[0;34m,\u001b[0m\u001b[0;34m\u001b[0m\n",
       "\u001b[0;34m\u001b[0m    \u001b[0mfilternorm\u001b[0m\u001b[0;34m=\u001b[0m\u001b[0;32mTrue\u001b[0m\u001b[0;34m,\u001b[0m\u001b[0;34m\u001b[0m\n",
       "\u001b[0;34m\u001b[0m    \u001b[0mfilterrad\u001b[0m\u001b[0;34m=\u001b[0m\u001b[0;36m4.0\u001b[0m\u001b[0;34m,\u001b[0m\u001b[0;34m\u001b[0m\n",
       "\u001b[0;34m\u001b[0m    \u001b[0mresample\u001b[0m\u001b[0;34m=\u001b[0m\u001b[0;32mNone\u001b[0m\u001b[0;34m,\u001b[0m\u001b[0;34m\u001b[0m\n",
       "\u001b[0;34m\u001b[0m    \u001b[0murl\u001b[0m\u001b[0;34m=\u001b[0m\u001b[0;32mNone\u001b[0m\u001b[0;34m,\u001b[0m\u001b[0;34m\u001b[0m\n",
       "\u001b[0;34m\u001b[0m    \u001b[0mdata\u001b[0m\u001b[0;34m=\u001b[0m\u001b[0;32mNone\u001b[0m\u001b[0;34m,\u001b[0m\u001b[0;34m\u001b[0m\n",
       "\u001b[0;34m\u001b[0m\u001b[0;34m)\u001b[0m\u001b[0;34m\u001b[0m\u001b[0;34m\u001b[0m\u001b[0m\n",
       "\u001b[0;31mDocstring:\u001b[0m Show a PIL or PyTorch image on `ax`.\n",
       "\u001b[0;31mFile:\u001b[0m      /var/folders/_k/c1pmn5411mq47r918y2y15pr0000gn/T/ipykernel_72515/2241758370.py\n",
       "\u001b[0;31mType:\u001b[0m      function"
      ]
     },
     "metadata": {},
     "output_type": "display_data"
    }
   ],
   "source": [
    "show_image?"
   ]
  },
  {
   "cell_type": "code",
   "execution_count": 120,
   "id": "2209898e",
   "metadata": {
    "tags": []
   },
   "outputs": [
    {
     "data": {
      "image/png": "[encoded data removed]",
      "text/plain": [
       "<Figure size 200x200 with 1 Axes>"
      ]
     },
     "metadata": {},
     "output_type": "display_data"
    }
   ],
   "source": [
    "show_image(img, figsize=(2, 2))"
   ]
  },
  {
   "cell_type": "code",
   "execution_count": 121,
   "id": "27586e5e",
   "metadata": {
    "tags": []
   },
   "outputs": [
    {
     "data": {
      "image/png": "[encoded data removed]",
      "text/plain": [
       "<Figure size 640x480 with 2 Axes>"
      ]
     },
     "metadata": {},
     "output_type": "display_data"
    }
   ],
   "source": [
    "fig, axs = plt.subplots(1, 2)\n",
    "show_image(img, axs[0])\n",
    "show_image(xb[1], axs[1])"
   ]
  },
  {
   "cell_type": "code",
   "execution_count": 125,
   "id": "366112a5",
   "metadata": {
    "tags": []
   },
   "outputs": [],
   "source": [
    "# |export\n",
    "@fc.delegates(plt.subplots, keep=True)\n",
    "def subplots(\n",
    "    nrows: int = 1,  # Number of rows in returned axes grid\n",
    "    ncols: int = 1,  # Number of columns in returned axes grid\n",
    "    figsize: tuple = None,  # Width, height in inches of the returned figure\n",
    "    imsize: int = 3,  # Size (in inches) of images that will be displayed in the returned figure\n",
    "    suptitle: str = None,  # Title to be set to returned figure\n",
    "    **kwargs\n",
    "):  # fig and axs\n",
    "    \"A figure and set of subplots to display images of `imsize` inches\"\n",
    "    if figsize is None:\n",
    "        figsize = (ncols * imsize, nrows * imsize)\n",
    "    fig, ax = plt.subplots(nrows, ncols, figsize=figsize, **kwargs)\n",
    "    if suptitle is not None:\n",
    "        fig.suptitle(suptitle)\n",
    "    if nrows * ncols == 1:\n",
    "        ax = np.array([ax])\n",
    "    return fig, ax"
   ]
  },
  {
   "cell_type": "code",
   "execution_count": 126,
   "id": "f53aae66",
   "metadata": {
    "tags": []
   },
   "outputs": [
    {
     "data": {
      "text/markdown": [
       "---\n",
       "\n",
       "### subplots\n",
       "\n",
       ">      subplots (nrows:int=1, ncols:int=1, figsize:tuple=None, imsize:int=3,\n",
       ">                suptitle:str=None, sharex=False, sharey=False, squeeze=True,\n",
       ">                width_ratios=None, height_ratios=None, subplot_kw=None,\n",
       ">                gridspec_kw=None, **kwargs)\n",
       "\n",
       "A figure and set of subplots to display images of `imsize` inches\n",
       "\n",
       "|    | **Type** | **Default** | **Details** |\n",
       "| -- | -------- | ----------- | ----------- |\n",
       "| nrows | int | 1 | Number of rows in returned axes grid |\n",
       "| ncols | int | 1 | Number of columns in returned axes grid |\n",
       "| figsize | tuple | None | Width, height in inches of the returned figure |\n",
       "| imsize | int | 3 | Size (in inches) of images that will be displayed in the returned figure |\n",
       "| suptitle | str | None | Title to be set to returned figure |\n",
       "| sharex | bool | False |  |\n",
       "| sharey | bool | False |  |\n",
       "| squeeze | bool | True |  |\n",
       "| width_ratios | NoneType | None |  |\n",
       "| height_ratios | NoneType | None |  |\n",
       "| subplot_kw | NoneType | None |  |\n",
       "| gridspec_kw | NoneType | None |  |\n",
       "| kwargs |  |  |  |"
      ],
      "text/plain": [
       "---\n",
       "\n",
       "### subplots\n",
       "\n",
       ">      subplots (nrows:int=1, ncols:int=1, figsize:tuple=None, imsize:int=3,\n",
       ">                suptitle:str=None, sharex=False, sharey=False, squeeze=True,\n",
       ">                width_ratios=None, height_ratios=None, subplot_kw=None,\n",
       ">                gridspec_kw=None, **kwargs)\n",
       "\n",
       "A figure and set of subplots to display images of `imsize` inches\n",
       "\n",
       "|    | **Type** | **Default** | **Details** |\n",
       "| -- | -------- | ----------- | ----------- |\n",
       "| nrows | int | 1 | Number of rows in returned axes grid |\n",
       "| ncols | int | 1 | Number of columns in returned axes grid |\n",
       "| figsize | tuple | None | Width, height in inches of the returned figure |\n",
       "| imsize | int | 3 | Size (in inches) of images that will be displayed in the returned figure |\n",
       "| suptitle | str | None | Title to be set to returned figure |\n",
       "| sharex | bool | False |  |\n",
       "| sharey | bool | False |  |\n",
       "| squeeze | bool | True |  |\n",
       "| width_ratios | NoneType | None |  |\n",
       "| height_ratios | NoneType | None |  |\n",
       "| subplot_kw | NoneType | None |  |\n",
       "| gridspec_kw | NoneType | None |  |\n",
       "| kwargs |  |  |  |"
      ]
     },
     "execution_count": 126,
     "metadata": {},
     "output_type": "execute_result"
    }
   ],
   "source": [
    "show_doc(subplots)"
   ]
  },
  {
   "cell_type": "code",
   "execution_count": 127,
   "id": "20546a79",
   "metadata": {
    "tags": []
   },
   "outputs": [
    {
     "data": {
      "image/png": "[encoded data removed]",
      "text/plain": [
       "<Figure size 300x300 with 9 Axes>"
      ]
     },
     "metadata": {},
     "output_type": "display_data"
    }
   ],
   "source": [
    "fig, axs = subplots(3, 3, imsize=1)\n",
    "imgs = xb[:8]\n",
    "for ax, img in zip(axs.flat, imgs):\n",
    "    show_image(img, ax)"
   ]
  },
  {
   "cell_type": "code",
   "execution_count": 128,
   "id": "aeaf024b",
   "metadata": {
    "tags": []
   },
   "outputs": [],
   "source": [
    "# |export\n",
    "@fc.delegates(subplots)\n",
    "def get_grid(\n",
    "    n: int,  # Number of axes\n",
    "    nrows: int = None,  # Number of rows, defaulting to `int(math.sqrt(n))`\n",
    "    ncols: int = None,  # Number of columns, defaulting to `ceil(n/rows)`\n",
    "    title: str = None,  # If passed, title set to the figure\n",
    "    weight: str = \"bold\",  # Title font weight\n",
    "    size: int = 14,  # Title font size\n",
    "    **kwargs,\n",
    "):  # fig and axs\n",
    "    \"Return a grid of `n` axes, `rows` by `cols`\"\n",
    "    if nrows:\n",
    "        ncols = ncols or int(np.floor(n / nrows))\n",
    "    elif ncols:\n",
    "        nrows = nrows or int(np.ceil(n / ncols))\n",
    "    else:\n",
    "        nrows = int(math.sqrt(n))\n",
    "        ncols = int(np.floor(n / nrows))\n",
    "    fig, axs = subplots(nrows, ncols, **kwargs)\n",
    "    for i in range(n, nrows * ncols):\n",
    "        axs.flat[i].set_axis_off()\n",
    "    if title is not None:\n",
    "        fig.suptitle(title, weight=weight, size=size)\n",
    "    return fig, axs"
   ]
  },
  {
   "cell_type": "code",
   "execution_count": 129,
   "id": "c422a7de",
   "metadata": {
    "tags": []
   },
   "outputs": [
    {
     "data": {
      "image/png": "[encoded data removed]",
      "text/plain": [
       "<Figure size 200x300 with 6 Axes>"
      ]
     },
     "metadata": {},
     "output_type": "display_data"
    }
   ],
   "source": [
    "fig, axs = get_grid(8, nrows=3, imsize=1)\n",
    "for ax, img in zip(axs.flat, imgs):\n",
    "    show_image(img, ax)"
   ]
  },
  {
   "cell_type": "code",
   "execution_count": 130,
   "id": "02f44439",
   "metadata": {
    "tags": []
   },
   "outputs": [],
   "source": [
    "# |export\n",
    "@fc.delegates(subplots)\n",
    "def show_images(\n",
    "    ims: list,  # Images to show\n",
    "    nrows: int | None = None,  # Number of rows in grid\n",
    "    ncols: int | None = None,  # Number of columns in grid (auto-calculated if None)\n",
    "    titles: list | None = None,  # Optional list of titles for each image\n",
    "    **kwargs\n",
    "):\n",
    "    \"Show all images `ims` as subplots with `rows` using `titles`\"\n",
    "    axs = get_grid(len(ims), nrows, ncols, **kwargs)[1].flat\n",
    "    for im, t, ax in zip_longest(ims, titles or [], axs):\n",
    "        show_image(im, ax=ax, title=t)"
   ]
  },
  {
   "cell_type": "code",
   "execution_count": 137,
   "id": "91e0e2ac",
   "metadata": {
    "tags": []
   },
   "outputs": [],
   "source": [
    "yb = b[\"label\"]\n",
    "lbls = yb[:8]"
   ]
  },
  {
   "cell_type": "code",
   "execution_count": 138,
   "id": "a7aacc2a",
   "metadata": {
    "tags": []
   },
   "outputs": [
    {
     "data": {
      "text/plain": [
       "'Ankle boot T - shirt / top T - shirt / top Dress T - shirt / top Pullover Sneaker Pullover'"
      ]
     },
     "execution_count": 138,
     "metadata": {},
     "output_type": "execute_result"
    }
   ],
   "source": [
    "# names = \"Top Trouser Pullover Dress Coat Sandal Shirt Sneaker Bag Boot\".split()\n",
    "names = train.features[\"label\"].names\n",
    "titles = itemgetter(*lbls)(names)\n",
    "\" \".join(titles)"
   ]
  },
  {
   "cell_type": "code",
   "execution_count": 139,
   "id": "33b9ac1b",
   "metadata": {
    "tags": []
   },
   "outputs": [
    {
     "data": {
      "image/png": "[encoded data removed]",
      "text/plain": [
       "<Figure size 680x340 with 8 Axes>"
      ]
     },
     "metadata": {},
     "output_type": "display_data"
    }
   ],
   "source": [
    "show_images(imgs, imsize=1.7, titles=titles)"
   ]
  },
  {
   "cell_type": "code",
   "execution_count": 143,
   "id": "56422103",
   "metadata": {
    "tags": []
   },
   "outputs": [],
   "source": [
    "# |export\n",
    "class DataLoaders:\n",
    "    def __init__(self, *dls):\n",
    "        self.train, self.valid = dls[:2]\n",
    "\n",
    "    @classmethod\n",
    "    def from_dd(cls, dd, batch_size, as_tuple=True, **kwargs):\n",
    "        # dd: data dictionary that includes different splits such as\n",
    "        # the HF data dictionary\n",
    "        f = collate_dict(dd[\"train\"])\n",
    "        return cls(*get_dls(*dd.values(), bs=batch_size, collate_fn=f, **kwargs))"
   ]
  },
  {
   "cell_type": "markdown",
   "id": "ff61b773",
   "metadata": {},
   "source": [
    "## Export -"
   ]
  },
  {
   "cell_type": "code",
   "execution_count": null,
   "id": "686a88de",
   "metadata": {},
   "outputs": [],
   "source": [
    "import nbdev; nbdev.nbdev_export()"
   ]
  }
 ],
 "metadata": {
  "kernelspec": {
   "display_name": "Python 3 (ipykernel)",
   "language": "python",
   "name": "python3"
  },
  "language_info": {
   "codemirror_mode": {
    "name": "ipython",
    "version": 3
   },
   "file_extension": ".py",
   "mimetype": "text/x-python",
   "name": "python",
   "nbconvert_exporter": "python",
   "pygments_lexer": "ipython3",
   "version": "3.11.3"
  }
 },
 "nbformat": 4,
 "nbformat_minor": 5
}
